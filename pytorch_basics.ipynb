{
 "cells": [
  {
   "cell_type": "code",
   "execution_count": 1,
   "metadata": {},
   "outputs": [],
   "source": [
    "import torch\n",
    "import torch.nn as nn\n",
    "import numpy as np"
   ]
  },
  {
   "cell_type": "code",
   "execution_count": 2,
   "metadata": {},
   "outputs": [],
   "source": [
    "# class representing your neural network\n",
    "# 4 (input) --> 3 (hidden layer) --> 2 (hidden layer) --> 1 (output layer)\n",
    "\n",
    "class SinglePerceptron(nn.Module):\n",
    "    def __init__(self):\n",
    "        super().__init__()\n",
    "        self.hidden_layer_1 = torch.nn.Linear(4, 3) # input to first hidden layer\n",
    "        self.hidden_layer_2 = torch.nn.Linear(3, 2)\n",
    "        self.output_layer = torch.nn.Linear(2, 1)\n",
    "\n",
    "        # activation\n",
    "        self.sigmoid = nn.Sigmoid()\n",
    "\n",
    "    def forward(self, x):\n",
    "\n",
    "        # hidden layer 1 activation\n",
    "        x = self.sigmoid(self.hidden_layer_1(x))\n",
    "\n",
    "        # hidden layer 2 activation\n",
    "        x = self.sigmoid(self.hidden_layer_2(x))\n",
    "        \n",
    "        # output layer activation\n",
    "        y = self.sigmoid(self.output_layer(x))\n",
    "        return y"
   ]
  },
  {
   "cell_type": "code",
   "execution_count": 3,
   "metadata": {},
   "outputs": [
    {
     "name": "stdout",
     "output_type": "stream",
     "text": [
      "torch.Size([2, 1])\n",
      "SinglePerceptron(\n",
      "  (hidden_layer_1): Linear(in_features=4, out_features=3, bias=True)\n",
      "  (hidden_layer_2): Linear(in_features=3, out_features=2, bias=True)\n",
      "  (output_layer): Linear(in_features=2, out_features=1, bias=True)\n",
      "  (sigmoid): Sigmoid()\n",
      ")\n"
     ]
    }
   ],
   "source": [
    "x = torch.Tensor([[5,3,1,2],[2,5,6,8]])\n",
    "model = SinglePerceptron()\n",
    "predictions = model.forward(x)\n",
    "print(predictions.shape)\n",
    "print(model)"
   ]
  },
  {
   "cell_type": "code",
   "execution_count": 4,
   "metadata": {},
   "outputs": [
    {
     "name": "stdout",
     "output_type": "stream",
     "text": [
      "0.32789644598960876\n",
      "0.1831338256597519\n"
     ]
    }
   ],
   "source": [
    "# Loss function\n",
    "loss_fn = nn.MSELoss()\n",
    "\n",
    "answer_key = torch.Tensor([[1], [0]])\n",
    "\n",
    "for i in range(len(predictions)):\n",
    "    p = predictions[i]\n",
    "    a = answer_key[i]\n",
    "\n",
    "    loss = loss_fn(p, a)\n",
    "\n",
    "    print(loss.item())"
   ]
  },
  {
   "cell_type": "code",
   "execution_count": 5,
   "metadata": {},
   "outputs": [
    {
     "name": "stdout",
     "output_type": "stream",
     "text": [
      "hidden_layer_1.weight\n",
      "tensor([[-0.2305, -0.2224,  0.3931,  0.3562],\n",
      "        [ 0.0011,  0.1016, -0.3186, -0.4157],\n",
      "        [ 0.4749, -0.4675,  0.2004, -0.4947]])\n",
      "hidden_layer_1.bias\n",
      "tensor([0.4116, 0.1549, 0.1240])\n",
      "hidden_layer_2.weight\n",
      "tensor([[-0.5222, -0.2861, -0.4843],\n",
      "        [-0.1735, -0.3987,  0.0451]])\n",
      "hidden_layer_2.bias\n",
      "tensor([0.4529, 0.2222])\n",
      "output_layer.weight\n",
      "tensor([[ 0.1608, -0.3112]])\n",
      "output_layer.bias\n",
      "tensor([-0.2084])\n"
     ]
    }
   ],
   "source": [
    "# Examine the parameters\n",
    "num_parameters = 0\n",
    "for name, param in model.named_parameters():\n",
    "    print(name)\n",
    "    print(param.data)\n",
    "    \n",
    "    num_parameters += param.numel()"
   ]
  },
  {
   "cell_type": "code",
   "execution_count": 6,
   "metadata": {},
   "outputs": [
    {
     "name": "stdout",
     "output_type": "stream",
     "text": [
      "Num Parameters: 26\n"
     ]
    }
   ],
   "source": [
    "# Number of parameters of the network, weights plus biases\n",
    "print(\"Num Parameters: {}\".format(num_parameters))"
   ]
  },
  {
   "cell_type": "code",
   "execution_count": 7,
   "metadata": {},
   "outputs": [
    {
     "name": "stdout",
     "output_type": "stream",
     "text": [
      "OrderedDict([('hidden_layer_1.weight', tensor([[-0.2305, -0.2224,  0.3931,  0.3562],\n",
      "        [ 0.0011,  0.1016, -0.3186, -0.4157],\n",
      "        [ 0.4749, -0.4675,  0.2004, -0.4947]])), ('hidden_layer_1.bias', tensor([0.4116, 0.1549, 0.1240])), ('hidden_layer_2.weight', tensor([[-0.5222, -0.2861, -0.4843],\n",
      "        [-0.1735, -0.3987,  0.0451]])), ('hidden_layer_2.bias', tensor([0.4529, 0.2222])), ('output_layer.weight', tensor([[ 0.1608, -0.3112]])), ('output_layer.bias', tensor([-0.2084]))])\n"
     ]
    }
   ],
   "source": [
    "# Check the state of the model as a dictionary\n",
    "print(model.state_dict())"
   ]
  },
  {
   "cell_type": "code",
   "execution_count": 8,
   "metadata": {},
   "outputs": [],
   "source": [
    "# Declare a dictionary that we want to serialize as .pth file\n",
    "state = { 'state_dict': model.state_dict() }\n",
    "\n",
    "torch.save(state, \"model.pth\")"
   ]
  },
  {
   "cell_type": "code",
   "execution_count": 9,
   "metadata": {},
   "outputs": [
    {
     "data": {
      "text/plain": [
       "tensor([[0.4274],\n",
       "        [0.4279]], grad_fn=<SigmoidBackward0>)"
      ]
     },
     "execution_count": 9,
     "metadata": {},
     "output_type": "execute_result"
    }
   ],
   "source": [
    "# Load a model\n",
    "model = SinglePerceptron()\n",
    "\n",
    "state = torch.load(\"model.pth\")\n",
    "\n",
    "model.load_state_dict(state['state_dict'])\n",
    "\n",
    "predictions = model.forward(x)\n",
    "\n",
    "predictions"
   ]
  },
  {
   "cell_type": "code",
   "execution_count": 10,
   "metadata": {},
   "outputs": [
    {
     "name": "stdout",
     "output_type": "stream",
     "text": [
      "[[0.4273776 ]\n",
      " [0.42794138]]\n"
     ]
    }
   ],
   "source": [
    "\n",
    "# Convert a tensor back to a numpy array\n",
    "preds = predictions.detach().cpu().numpy()\n",
    "\n",
    "print(preds)"
   ]
  },
  {
   "cell_type": "code",
   "execution_count": null,
   "metadata": {},
   "outputs": [],
   "source": []
  }
 ],
 "metadata": {
  "kernelspec": {
   "display_name": "env",
   "language": "python",
   "name": "python3"
  },
  "language_info": {
   "codemirror_mode": {
    "name": "ipython",
    "version": 3
   },
   "file_extension": ".py",
   "mimetype": "text/x-python",
   "name": "python",
   "nbconvert_exporter": "python",
   "pygments_lexer": "ipython3",
   "version": "3.9.13 (tags/v3.9.13:6de2ca5, May 17 2022, 16:36:42) [MSC v.1929 64 bit (AMD64)]"
  },
  "orig_nbformat": 4,
  "vscode": {
   "interpreter": {
    "hash": "1c40ce44dd20e6e0fb2a22fa8ec36f37aeef1e21e6d516fd6f161fb8a5daf29c"
   }
  }
 },
 "nbformat": 4,
 "nbformat_minor": 2
}
