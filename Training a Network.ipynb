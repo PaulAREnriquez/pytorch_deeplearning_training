{
 "cells": [
  {
   "cell_type": "code",
   "execution_count": 1,
   "id": "62d0a533",
   "metadata": {},
   "outputs": [],
   "source": [
    "import numpy as np\n",
    "import pandas as pd\n",
    "import torch\n",
    "import torch.nn as nn\n",
    "import torch.optim as optim\n",
    "from tqdm import tqdm\n",
    "from torch.utils.data import Dataset, DataLoader\n",
    "import matplotlib.pyplot as plt\n",
    "from sklearn.model_selection import train_test_split\n",
    "#from tqdm.autonotebook import tqdm as tqdm"
   ]
  },
  {
   "cell_type": "code",
   "execution_count": 2,
   "id": "ab7f586b",
   "metadata": {},
   "outputs": [
    {
     "data": {
      "text/plain": [
       "False"
      ]
     },
     "execution_count": 2,
     "metadata": {},
     "output_type": "execute_result"
    }
   ],
   "source": [
    "torch.cuda.is_available()"
   ]
  },
  {
   "cell_type": "code",
   "execution_count": 3,
   "id": "bb7d0bec",
   "metadata": {},
   "outputs": [
    {
     "data": {
      "text/html": [
       "<div>\n",
       "<style scoped>\n",
       "    .dataframe tbody tr th:only-of-type {\n",
       "        vertical-align: middle;\n",
       "    }\n",
       "\n",
       "    .dataframe tbody tr th {\n",
       "        vertical-align: top;\n",
       "    }\n",
       "\n",
       "    .dataframe thead th {\n",
       "        text-align: right;\n",
       "    }\n",
       "</style>\n",
       "<table border=\"1\" class=\"dataframe\">\n",
       "  <thead>\n",
       "    <tr style=\"text-align: right;\">\n",
       "      <th></th>\n",
       "      <th>0</th>\n",
       "      <th>1</th>\n",
       "      <th>2</th>\n",
       "      <th>3</th>\n",
       "      <th>4</th>\n",
       "      <th>5</th>\n",
       "      <th>6</th>\n",
       "      <th>7</th>\n",
       "      <th>8</th>\n",
       "      <th>9</th>\n",
       "      <th>...</th>\n",
       "      <th>22</th>\n",
       "      <th>23</th>\n",
       "      <th>24</th>\n",
       "      <th>25</th>\n",
       "      <th>26</th>\n",
       "      <th>27</th>\n",
       "      <th>28</th>\n",
       "      <th>29</th>\n",
       "      <th>30</th>\n",
       "      <th>31</th>\n",
       "    </tr>\n",
       "  </thead>\n",
       "  <tbody>\n",
       "    <tr>\n",
       "      <th>0</th>\n",
       "      <td>842302</td>\n",
       "      <td>M</td>\n",
       "      <td>17.99</td>\n",
       "      <td>10.38</td>\n",
       "      <td>122.80</td>\n",
       "      <td>1001.0</td>\n",
       "      <td>0.11840</td>\n",
       "      <td>0.27760</td>\n",
       "      <td>0.30010</td>\n",
       "      <td>0.14710</td>\n",
       "      <td>...</td>\n",
       "      <td>25.380</td>\n",
       "      <td>17.33</td>\n",
       "      <td>184.60</td>\n",
       "      <td>2019.0</td>\n",
       "      <td>0.16220</td>\n",
       "      <td>0.66560</td>\n",
       "      <td>0.7119</td>\n",
       "      <td>0.2654</td>\n",
       "      <td>0.4601</td>\n",
       "      <td>0.11890</td>\n",
       "    </tr>\n",
       "    <tr>\n",
       "      <th>1</th>\n",
       "      <td>842517</td>\n",
       "      <td>M</td>\n",
       "      <td>20.57</td>\n",
       "      <td>17.77</td>\n",
       "      <td>132.90</td>\n",
       "      <td>1326.0</td>\n",
       "      <td>0.08474</td>\n",
       "      <td>0.07864</td>\n",
       "      <td>0.08690</td>\n",
       "      <td>0.07017</td>\n",
       "      <td>...</td>\n",
       "      <td>24.990</td>\n",
       "      <td>23.41</td>\n",
       "      <td>158.80</td>\n",
       "      <td>1956.0</td>\n",
       "      <td>0.12380</td>\n",
       "      <td>0.18660</td>\n",
       "      <td>0.2416</td>\n",
       "      <td>0.1860</td>\n",
       "      <td>0.2750</td>\n",
       "      <td>0.08902</td>\n",
       "    </tr>\n",
       "    <tr>\n",
       "      <th>2</th>\n",
       "      <td>84300903</td>\n",
       "      <td>M</td>\n",
       "      <td>19.69</td>\n",
       "      <td>21.25</td>\n",
       "      <td>130.00</td>\n",
       "      <td>1203.0</td>\n",
       "      <td>0.10960</td>\n",
       "      <td>0.15990</td>\n",
       "      <td>0.19740</td>\n",
       "      <td>0.12790</td>\n",
       "      <td>...</td>\n",
       "      <td>23.570</td>\n",
       "      <td>25.53</td>\n",
       "      <td>152.50</td>\n",
       "      <td>1709.0</td>\n",
       "      <td>0.14440</td>\n",
       "      <td>0.42450</td>\n",
       "      <td>0.4504</td>\n",
       "      <td>0.2430</td>\n",
       "      <td>0.3613</td>\n",
       "      <td>0.08758</td>\n",
       "    </tr>\n",
       "    <tr>\n",
       "      <th>3</th>\n",
       "      <td>84348301</td>\n",
       "      <td>M</td>\n",
       "      <td>11.42</td>\n",
       "      <td>20.38</td>\n",
       "      <td>77.58</td>\n",
       "      <td>386.1</td>\n",
       "      <td>0.14250</td>\n",
       "      <td>0.28390</td>\n",
       "      <td>0.24140</td>\n",
       "      <td>0.10520</td>\n",
       "      <td>...</td>\n",
       "      <td>14.910</td>\n",
       "      <td>26.50</td>\n",
       "      <td>98.87</td>\n",
       "      <td>567.7</td>\n",
       "      <td>0.20980</td>\n",
       "      <td>0.86630</td>\n",
       "      <td>0.6869</td>\n",
       "      <td>0.2575</td>\n",
       "      <td>0.6638</td>\n",
       "      <td>0.17300</td>\n",
       "    </tr>\n",
       "    <tr>\n",
       "      <th>4</th>\n",
       "      <td>84358402</td>\n",
       "      <td>M</td>\n",
       "      <td>20.29</td>\n",
       "      <td>14.34</td>\n",
       "      <td>135.10</td>\n",
       "      <td>1297.0</td>\n",
       "      <td>0.10030</td>\n",
       "      <td>0.13280</td>\n",
       "      <td>0.19800</td>\n",
       "      <td>0.10430</td>\n",
       "      <td>...</td>\n",
       "      <td>22.540</td>\n",
       "      <td>16.67</td>\n",
       "      <td>152.20</td>\n",
       "      <td>1575.0</td>\n",
       "      <td>0.13740</td>\n",
       "      <td>0.20500</td>\n",
       "      <td>0.4000</td>\n",
       "      <td>0.1625</td>\n",
       "      <td>0.2364</td>\n",
       "      <td>0.07678</td>\n",
       "    </tr>\n",
       "    <tr>\n",
       "      <th>...</th>\n",
       "      <td>...</td>\n",
       "      <td>...</td>\n",
       "      <td>...</td>\n",
       "      <td>...</td>\n",
       "      <td>...</td>\n",
       "      <td>...</td>\n",
       "      <td>...</td>\n",
       "      <td>...</td>\n",
       "      <td>...</td>\n",
       "      <td>...</td>\n",
       "      <td>...</td>\n",
       "      <td>...</td>\n",
       "      <td>...</td>\n",
       "      <td>...</td>\n",
       "      <td>...</td>\n",
       "      <td>...</td>\n",
       "      <td>...</td>\n",
       "      <td>...</td>\n",
       "      <td>...</td>\n",
       "      <td>...</td>\n",
       "      <td>...</td>\n",
       "    </tr>\n",
       "    <tr>\n",
       "      <th>564</th>\n",
       "      <td>926424</td>\n",
       "      <td>M</td>\n",
       "      <td>21.56</td>\n",
       "      <td>22.39</td>\n",
       "      <td>142.00</td>\n",
       "      <td>1479.0</td>\n",
       "      <td>0.11100</td>\n",
       "      <td>0.11590</td>\n",
       "      <td>0.24390</td>\n",
       "      <td>0.13890</td>\n",
       "      <td>...</td>\n",
       "      <td>25.450</td>\n",
       "      <td>26.40</td>\n",
       "      <td>166.10</td>\n",
       "      <td>2027.0</td>\n",
       "      <td>0.14100</td>\n",
       "      <td>0.21130</td>\n",
       "      <td>0.4107</td>\n",
       "      <td>0.2216</td>\n",
       "      <td>0.2060</td>\n",
       "      <td>0.07115</td>\n",
       "    </tr>\n",
       "    <tr>\n",
       "      <th>565</th>\n",
       "      <td>926682</td>\n",
       "      <td>M</td>\n",
       "      <td>20.13</td>\n",
       "      <td>28.25</td>\n",
       "      <td>131.20</td>\n",
       "      <td>1261.0</td>\n",
       "      <td>0.09780</td>\n",
       "      <td>0.10340</td>\n",
       "      <td>0.14400</td>\n",
       "      <td>0.09791</td>\n",
       "      <td>...</td>\n",
       "      <td>23.690</td>\n",
       "      <td>38.25</td>\n",
       "      <td>155.00</td>\n",
       "      <td>1731.0</td>\n",
       "      <td>0.11660</td>\n",
       "      <td>0.19220</td>\n",
       "      <td>0.3215</td>\n",
       "      <td>0.1628</td>\n",
       "      <td>0.2572</td>\n",
       "      <td>0.06637</td>\n",
       "    </tr>\n",
       "    <tr>\n",
       "      <th>566</th>\n",
       "      <td>926954</td>\n",
       "      <td>M</td>\n",
       "      <td>16.60</td>\n",
       "      <td>28.08</td>\n",
       "      <td>108.30</td>\n",
       "      <td>858.1</td>\n",
       "      <td>0.08455</td>\n",
       "      <td>0.10230</td>\n",
       "      <td>0.09251</td>\n",
       "      <td>0.05302</td>\n",
       "      <td>...</td>\n",
       "      <td>18.980</td>\n",
       "      <td>34.12</td>\n",
       "      <td>126.70</td>\n",
       "      <td>1124.0</td>\n",
       "      <td>0.11390</td>\n",
       "      <td>0.30940</td>\n",
       "      <td>0.3403</td>\n",
       "      <td>0.1418</td>\n",
       "      <td>0.2218</td>\n",
       "      <td>0.07820</td>\n",
       "    </tr>\n",
       "    <tr>\n",
       "      <th>567</th>\n",
       "      <td>927241</td>\n",
       "      <td>M</td>\n",
       "      <td>20.60</td>\n",
       "      <td>29.33</td>\n",
       "      <td>140.10</td>\n",
       "      <td>1265.0</td>\n",
       "      <td>0.11780</td>\n",
       "      <td>0.27700</td>\n",
       "      <td>0.35140</td>\n",
       "      <td>0.15200</td>\n",
       "      <td>...</td>\n",
       "      <td>25.740</td>\n",
       "      <td>39.42</td>\n",
       "      <td>184.60</td>\n",
       "      <td>1821.0</td>\n",
       "      <td>0.16500</td>\n",
       "      <td>0.86810</td>\n",
       "      <td>0.9387</td>\n",
       "      <td>0.2650</td>\n",
       "      <td>0.4087</td>\n",
       "      <td>0.12400</td>\n",
       "    </tr>\n",
       "    <tr>\n",
       "      <th>568</th>\n",
       "      <td>92751</td>\n",
       "      <td>B</td>\n",
       "      <td>7.76</td>\n",
       "      <td>24.54</td>\n",
       "      <td>47.92</td>\n",
       "      <td>181.0</td>\n",
       "      <td>0.05263</td>\n",
       "      <td>0.04362</td>\n",
       "      <td>0.00000</td>\n",
       "      <td>0.00000</td>\n",
       "      <td>...</td>\n",
       "      <td>9.456</td>\n",
       "      <td>30.37</td>\n",
       "      <td>59.16</td>\n",
       "      <td>268.6</td>\n",
       "      <td>0.08996</td>\n",
       "      <td>0.06444</td>\n",
       "      <td>0.0000</td>\n",
       "      <td>0.0000</td>\n",
       "      <td>0.2871</td>\n",
       "      <td>0.07039</td>\n",
       "    </tr>\n",
       "  </tbody>\n",
       "</table>\n",
       "<p>569 rows × 32 columns</p>\n",
       "</div>"
      ],
      "text/plain": [
       "           0  1      2      3       4       5        6        7        8   \\\n",
       "0      842302  M  17.99  10.38  122.80  1001.0  0.11840  0.27760  0.30010   \n",
       "1      842517  M  20.57  17.77  132.90  1326.0  0.08474  0.07864  0.08690   \n",
       "2    84300903  M  19.69  21.25  130.00  1203.0  0.10960  0.15990  0.19740   \n",
       "3    84348301  M  11.42  20.38   77.58   386.1  0.14250  0.28390  0.24140   \n",
       "4    84358402  M  20.29  14.34  135.10  1297.0  0.10030  0.13280  0.19800   \n",
       "..        ... ..    ...    ...     ...     ...      ...      ...      ...   \n",
       "564    926424  M  21.56  22.39  142.00  1479.0  0.11100  0.11590  0.24390   \n",
       "565    926682  M  20.13  28.25  131.20  1261.0  0.09780  0.10340  0.14400   \n",
       "566    926954  M  16.60  28.08  108.30   858.1  0.08455  0.10230  0.09251   \n",
       "567    927241  M  20.60  29.33  140.10  1265.0  0.11780  0.27700  0.35140   \n",
       "568     92751  B   7.76  24.54   47.92   181.0  0.05263  0.04362  0.00000   \n",
       "\n",
       "          9   ...      22     23      24      25       26       27      28  \\\n",
       "0    0.14710  ...  25.380  17.33  184.60  2019.0  0.16220  0.66560  0.7119   \n",
       "1    0.07017  ...  24.990  23.41  158.80  1956.0  0.12380  0.18660  0.2416   \n",
       "2    0.12790  ...  23.570  25.53  152.50  1709.0  0.14440  0.42450  0.4504   \n",
       "3    0.10520  ...  14.910  26.50   98.87   567.7  0.20980  0.86630  0.6869   \n",
       "4    0.10430  ...  22.540  16.67  152.20  1575.0  0.13740  0.20500  0.4000   \n",
       "..       ...  ...     ...    ...     ...     ...      ...      ...     ...   \n",
       "564  0.13890  ...  25.450  26.40  166.10  2027.0  0.14100  0.21130  0.4107   \n",
       "565  0.09791  ...  23.690  38.25  155.00  1731.0  0.11660  0.19220  0.3215   \n",
       "566  0.05302  ...  18.980  34.12  126.70  1124.0  0.11390  0.30940  0.3403   \n",
       "567  0.15200  ...  25.740  39.42  184.60  1821.0  0.16500  0.86810  0.9387   \n",
       "568  0.00000  ...   9.456  30.37   59.16   268.6  0.08996  0.06444  0.0000   \n",
       "\n",
       "         29      30       31  \n",
       "0    0.2654  0.4601  0.11890  \n",
       "1    0.1860  0.2750  0.08902  \n",
       "2    0.2430  0.3613  0.08758  \n",
       "3    0.2575  0.6638  0.17300  \n",
       "4    0.1625  0.2364  0.07678  \n",
       "..      ...     ...      ...  \n",
       "564  0.2216  0.2060  0.07115  \n",
       "565  0.1628  0.2572  0.06637  \n",
       "566  0.1418  0.2218  0.07820  \n",
       "567  0.2650  0.4087  0.12400  \n",
       "568  0.0000  0.2871  0.07039  \n",
       "\n",
       "[569 rows x 32 columns]"
      ]
     },
     "execution_count": 3,
     "metadata": {},
     "output_type": "execute_result"
    }
   ],
   "source": [
    "df_raw = pd.read_csv(\"wdbc.csv\", header=None)\n",
    "\n",
    "df_raw"
   ]
  },
  {
   "cell_type": "code",
   "execution_count": 4,
   "id": "e340ca02",
   "metadata": {},
   "outputs": [
    {
     "data": {
      "text/plain": [
       "array([[0, 1],\n",
       "       [0, 1],\n",
       "       [0, 1],\n",
       "       ...,\n",
       "       [0, 1],\n",
       "       [0, 1],\n",
       "       [1, 0]], dtype=uint8)"
      ]
     },
     "execution_count": 4,
     "metadata": {},
     "output_type": "execute_result"
    }
   ],
   "source": [
    "y = pd.get_dummies(df_raw.iloc[:,1])\n",
    "y = y.values\n",
    "y"
   ]
  },
  {
   "cell_type": "code",
   "execution_count": 5,
   "id": "4d255e75",
   "metadata": {},
   "outputs": [
    {
     "data": {
      "text/plain": [
       "array([[0.52103744, 0.0226581 , 0.54598853, ..., 0.91202749, 0.59846245,\n",
       "        0.41886396],\n",
       "       [0.64314449, 0.27257355, 0.61578329, ..., 0.63917526, 0.23358959,\n",
       "        0.22287813],\n",
       "       [0.60149557, 0.3902604 , 0.59574321, ..., 0.83505155, 0.40370589,\n",
       "        0.21343303],\n",
       "       ...,\n",
       "       [0.45525108, 0.62123774, 0.44578813, ..., 0.48728522, 0.12872068,\n",
       "        0.1519087 ],\n",
       "       [0.64456434, 0.66351031, 0.66553797, ..., 0.91065292, 0.49714173,\n",
       "        0.45231536],\n",
       "       [0.03686876, 0.50152181, 0.02853984, ..., 0.        , 0.25744136,\n",
       "        0.10068215]])"
      ]
     },
     "execution_count": 5,
     "metadata": {},
     "output_type": "execute_result"
    }
   ],
   "source": [
    "x = df_raw.iloc[:,2:]\n",
    "x = (x - x.min()) / (x.max() - x.min())\n",
    "x = x.values\n",
    "x"
   ]
  },
  {
   "cell_type": "code",
   "execution_count": 6,
   "id": "a1694403",
   "metadata": {},
   "outputs": [
    {
     "data": {
      "text/plain": [
       "array([0.52103744, 0.0226581 , 0.54598853, 0.36373277, 0.59375282,\n",
       "       0.7920373 , 0.70313964, 0.73111332, 0.68636364, 0.60551811,\n",
       "       0.35614702, 0.12046941, 0.3690336 , 0.27381126, 0.15929565,\n",
       "       0.35139844, 0.13568182, 0.30062512, 0.31164518, 0.18304244,\n",
       "       0.62077552, 0.14152452, 0.66831017, 0.45069799, 0.60113584,\n",
       "       0.61929156, 0.56861022, 0.91202749, 0.59846245, 0.41886396])"
      ]
     },
     "execution_count": 6,
     "metadata": {},
     "output_type": "execute_result"
    }
   ],
   "source": [
    "x[0]"
   ]
  },
  {
   "cell_type": "code",
   "execution_count": 7,
   "id": "5f8f1fe8",
   "metadata": {},
   "outputs": [
    {
     "data": {
      "text/plain": [
       "array([0, 1], dtype=uint8)"
      ]
     },
     "execution_count": 7,
     "metadata": {},
     "output_type": "execute_result"
    }
   ],
   "source": [
    "y[0]"
   ]
  },
  {
   "cell_type": "code",
   "execution_count": 8,
   "id": "fe4ecdd8",
   "metadata": {},
   "outputs": [
    {
     "data": {
      "text/plain": [
       "(569, 30)"
      ]
     },
     "execution_count": 8,
     "metadata": {},
     "output_type": "execute_result"
    }
   ],
   "source": [
    "x.shape"
   ]
  },
  {
   "cell_type": "code",
   "execution_count": 9,
   "id": "0b4dfde6",
   "metadata": {},
   "outputs": [
    {
     "data": {
      "text/plain": [
       "(569, 32)"
      ]
     },
     "execution_count": 9,
     "metadata": {},
     "output_type": "execute_result"
    }
   ],
   "source": [
    "df_cleaned = np.column_stack([x,y])\n",
    "df_cleaned.shape"
   ]
  },
  {
   "cell_type": "code",
   "execution_count": 10,
   "id": "329393f8",
   "metadata": {},
   "outputs": [
    {
     "data": {
      "text/plain": [
       "array([0.52103744, 0.0226581 , 0.54598853, 0.36373277, 0.59375282,\n",
       "       0.7920373 , 0.70313964, 0.73111332, 0.68636364, 0.60551811,\n",
       "       0.35614702, 0.12046941, 0.3690336 , 0.27381126, 0.15929565,\n",
       "       0.35139844, 0.13568182, 0.30062512, 0.31164518, 0.18304244,\n",
       "       0.62077552, 0.14152452, 0.66831017, 0.45069799, 0.60113584,\n",
       "       0.61929156, 0.56861022, 0.91202749, 0.59846245, 0.41886396,\n",
       "       0.        , 1.        ])"
      ]
     },
     "execution_count": 10,
     "metadata": {},
     "output_type": "execute_result"
    }
   ],
   "source": [
    "df_cleaned[0]"
   ]
  },
  {
   "cell_type": "code",
   "execution_count": 11,
   "id": "1ab62721",
   "metadata": {},
   "outputs": [],
   "source": [
    "df_full_train, df_test = train_test_split(df_cleaned, test_size=0.1, random_state=1, shuffle=True)\n",
    "\n",
    "x_train = df_full_train[:,:-2]\n",
    "x_train = torch.Tensor(x_train)\n",
    "\n",
    "y_train = df_full_train[:,-2:]\n",
    "y_train = torch.Tensor(y_train)\n",
    "\n",
    "x_test = df_test[:,:-2]\n",
    "y_test = df_test[:,-2:]"
   ]
  },
  {
   "cell_type": "code",
   "execution_count": 12,
   "id": "b16a13f7",
   "metadata": {},
   "outputs": [
    {
     "data": {
      "text/plain": [
       "torch.Size([512, 2])"
      ]
     },
     "execution_count": 12,
     "metadata": {},
     "output_type": "execute_result"
    }
   ],
   "source": [
    "y_train.shape"
   ]
  },
  {
   "cell_type": "code",
   "execution_count": 13,
   "id": "7c665441",
   "metadata": {},
   "outputs": [],
   "source": [
    "class NeuralNetwork(nn.Module):\n",
    "    def __init__(self, in_dim, out_dim):\n",
    "        super().__init__()\n",
    "        self.in_dim = in_dim\n",
    "        self.out_dim = out_dim\n",
    "        \n",
    "        self.hidden_layer_1 = nn.Linear(self.in_dim, 20) # input to first hidden layer\n",
    "        self.hidden_layer_2 = nn.Linear(20, 10)\n",
    "        self.hidden_layer_3 = nn.Linear(10,5)\n",
    "        self.hidden_layer_4 = nn.Linear(5,3)\n",
    "        self.hidden_layer_5 = nn.Linear(3,2)\n",
    "\n",
    "        \"\"\"\n",
    "        self.multiple_layers = nn.Sequential(\n",
    "            nn.Linear(10, 10),\n",
    "            nn.Sigmoid(),\n",
    "            nn.Linear(10, 10),\n",
    "            nn.Sigmoid(),\n",
    "            nn.Linear(10, 10),\n",
    "            nn.Sigmoid(),\n",
    "            nn.Linear(10, 10),\n",
    "            nn.Sigmoid(),\n",
    "        )\n",
    "        \"\"\"\n",
    "        \n",
    "        self.output_layer = nn.Linear(2, self.out_dim)\n",
    "        self.activation = nn.Sigmoid()\n",
    "    \n",
    "    def forward(self, x):\n",
    "        x = self.activation(self.hidden_layer_1(x))\n",
    "        \n",
    "        x = self.activation(self.hidden_layer_2(x))\n",
    "        \n",
    "        #x = self.multiple_layers(x)\n",
    "\n",
    "        x = self.activation(self.hidden_layer_3(x))\n",
    "    \n",
    "        x = self.activation(self.hidden_layer_4(x))\n",
    "        \n",
    "        x = self.activation(self.hidden_layer_5(x))\n",
    "        \n",
    "        y = self.activation(self.output_layer(x))\n",
    "        \n",
    "        return y"
   ]
  },
  {
   "cell_type": "code",
   "execution_count": 14,
   "id": "37c149c3",
   "metadata": {},
   "outputs": [],
   "source": [
    "model = NeuralNetwork(30, 2)\n",
    "\n",
    "# Test structure of model\n",
    "#predictions_before = model.forward(torch.Tensor(x_test).float())\n",
    "#predictions_before"
   ]
  },
  {
   "cell_type": "code",
   "execution_count": 15,
   "id": "7148dc44",
   "metadata": {},
   "outputs": [],
   "source": [
    "learning_rate = 0.001\n",
    "loss_fn = nn.MSELoss()\n",
    "optimizer = optim.Adam(model.parameters(), lr=learning_rate)\n",
    "batch_size = 5"
   ]
  },
  {
   "cell_type": "code",
   "execution_count": 16,
   "id": "fbe212b2",
   "metadata": {},
   "outputs": [],
   "source": [
    "# Custom dataset to treat how the model picks an x, y combination from the dataset\n",
    "class MyCustomDataset(Dataset):\n",
    "    def __init__(self, x, y):\n",
    "        self.x = x\n",
    "        self.y = y\n",
    "        \n",
    "    def __len__(self):\n",
    "        return len(self.x)\n",
    "    \n",
    "    # Requires you to return data as a pair of _x, _y\n",
    "    def __getitem__(self, index):\n",
    "        return self.x[index], self.y[index]"
   ]
  },
  {
   "cell_type": "code",
   "execution_count": 17,
   "id": "81cc104e",
   "metadata": {},
   "outputs": [
    {
     "name": "stdout",
     "output_type": "stream",
     "text": [
      "Epoch: 0\n"
     ]
    },
    {
     "name": "stderr",
     "output_type": "stream",
     "text": [
      "100%|██████████| 103/103 [00:00<00:00, 167.57it/s, loss=0.117]\n"
     ]
    },
    {
     "name": "stdout",
     "output_type": "stream",
     "text": [
      "Ave Loss: 0.23341967975630343\n",
      "Epoch: 1\n"
     ]
    },
    {
     "name": "stderr",
     "output_type": "stream",
     "text": [
      "100%|██████████| 103/103 [00:00<00:00, 124.36it/s, loss=0.121]\n"
     ]
    },
    {
     "name": "stdout",
     "output_type": "stream",
     "text": [
      "Ave Loss: 0.23300808791107344\n",
      "Epoch: 2\n"
     ]
    },
    {
     "name": "stderr",
     "output_type": "stream",
     "text": [
      "100%|██████████| 103/103 [00:00<00:00, 184.62it/s, loss=0.124]\n"
     ]
    },
    {
     "name": "stdout",
     "output_type": "stream",
     "text": [
      "Ave Loss: 0.23274261728652473\n",
      "Epoch: 3\n"
     ]
    },
    {
     "name": "stderr",
     "output_type": "stream",
     "text": [
      "100%|██████████| 103/103 [00:00<00:00, 135.39it/s, loss=0.126]\n"
     ]
    },
    {
     "name": "stdout",
     "output_type": "stream",
     "text": [
      "Ave Loss: 0.23255938248148242\n",
      "Epoch: 4\n"
     ]
    },
    {
     "name": "stderr",
     "output_type": "stream",
     "text": [
      "100%|██████████| 103/103 [00:00<00:00, 187.43it/s, loss=0.128]\n"
     ]
    },
    {
     "name": "stdout",
     "output_type": "stream",
     "text": [
      "Ave Loss: 0.2324006862721397\n",
      "Epoch: 5\n"
     ]
    },
    {
     "name": "stderr",
     "output_type": "stream",
     "text": [
      "100%|██████████| 103/103 [00:00<00:00, 136.56it/s, loss=0.13]\n"
     ]
    },
    {
     "name": "stdout",
     "output_type": "stream",
     "text": [
      "Ave Loss: 0.23217540386232358\n",
      "Epoch: 6\n"
     ]
    },
    {
     "name": "stderr",
     "output_type": "stream",
     "text": [
      "100%|██████████| 103/103 [00:00<00:00, 172.28it/s, loss=0.13]\n"
     ]
    },
    {
     "name": "stdout",
     "output_type": "stream",
     "text": [
      "Ave Loss: 0.23174105396548522\n",
      "Epoch: 7\n"
     ]
    },
    {
     "name": "stderr",
     "output_type": "stream",
     "text": [
      "100%|██████████| 103/103 [00:00<00:00, 136.85it/s, loss=0.13]\n"
     ]
    },
    {
     "name": "stdout",
     "output_type": "stream",
     "text": [
      "Ave Loss: 0.23094789061731505\n",
      "Epoch: 8\n"
     ]
    },
    {
     "name": "stderr",
     "output_type": "stream",
     "text": [
      "100%|██████████| 103/103 [00:00<00:00, 132.09it/s, loss=0.129]\n"
     ]
    },
    {
     "name": "stdout",
     "output_type": "stream",
     "text": [
      "Ave Loss: 0.22968367494425726\n",
      "Epoch: 9\n"
     ]
    },
    {
     "name": "stderr",
     "output_type": "stream",
     "text": [
      "100%|██████████| 103/103 [00:00<00:00, 130.44it/s, loss=0.127]\n"
     ]
    },
    {
     "name": "stdout",
     "output_type": "stream",
     "text": [
      "Ave Loss: 0.22781013183802076\n",
      "Epoch: 10\n"
     ]
    },
    {
     "name": "stderr",
     "output_type": "stream",
     "text": [
      "100%|██████████| 103/103 [00:00<00:00, 172.12it/s, loss=0.124]\n"
     ]
    },
    {
     "name": "stdout",
     "output_type": "stream",
     "text": [
      "Ave Loss: 0.22509823435718573\n",
      "Epoch: 11\n"
     ]
    },
    {
     "name": "stderr",
     "output_type": "stream",
     "text": [
      "100%|██████████| 103/103 [00:00<00:00, 129.16it/s, loss=0.119]\n"
     ]
    },
    {
     "name": "stdout",
     "output_type": "stream",
     "text": [
      "Ave Loss: 0.22114361446459316\n",
      "Epoch: 12\n"
     ]
    },
    {
     "name": "stderr",
     "output_type": "stream",
     "text": [
      "100%|██████████| 103/103 [00:00<00:00, 163.94it/s, loss=0.113]\n"
     ]
    },
    {
     "name": "stdout",
     "output_type": "stream",
     "text": [
      "Ave Loss: 0.2152484689378044\n",
      "Epoch: 13\n"
     ]
    },
    {
     "name": "stderr",
     "output_type": "stream",
     "text": [
      "100%|██████████| 103/103 [00:00<00:00, 143.11it/s, loss=0.107]\n"
     ]
    },
    {
     "name": "stdout",
     "output_type": "stream",
     "text": [
      "Ave Loss: 0.20661752019981736\n",
      "Epoch: 14\n"
     ]
    },
    {
     "name": "stderr",
     "output_type": "stream",
     "text": [
      "100%|██████████| 103/103 [00:00<00:00, 125.68it/s, loss=0.099]\n"
     ]
    },
    {
     "name": "stdout",
     "output_type": "stream",
     "text": [
      "Ave Loss: 0.1950213406415819\n",
      "Epoch: 15\n"
     ]
    },
    {
     "name": "stderr",
     "output_type": "stream",
     "text": [
      "100%|██████████| 103/103 [00:00<00:00, 120.00it/s, loss=0.0911]\n"
     ]
    },
    {
     "name": "stdout",
     "output_type": "stream",
     "text": [
      "Ave Loss: 0.18112015109328392\n",
      "Epoch: 16\n"
     ]
    },
    {
     "name": "stderr",
     "output_type": "stream",
     "text": [
      "100%|██████████| 103/103 [00:00<00:00, 133.69it/s, loss=0.0833]\n"
     ]
    },
    {
     "name": "stdout",
     "output_type": "stream",
     "text": [
      "Ave Loss: 0.16610220870346698\n",
      "Epoch: 17\n"
     ]
    },
    {
     "name": "stderr",
     "output_type": "stream",
     "text": [
      "100%|██████████| 103/103 [00:00<00:00, 117.59it/s, loss=0.0758]\n"
     ]
    },
    {
     "name": "stdout",
     "output_type": "stream",
     "text": [
      "Ave Loss: 0.15120238109121045\n",
      "Epoch: 18\n"
     ]
    },
    {
     "name": "stderr",
     "output_type": "stream",
     "text": [
      "100%|██████████| 103/103 [00:00<00:00, 117.61it/s, loss=0.0689]\n"
     ]
    },
    {
     "name": "stdout",
     "output_type": "stream",
     "text": [
      "Ave Loss: 0.13725250134768996\n",
      "Epoch: 19\n"
     ]
    },
    {
     "name": "stderr",
     "output_type": "stream",
     "text": [
      "100%|██████████| 103/103 [00:00<00:00, 183.77it/s, loss=0.0625]\n"
     ]
    },
    {
     "name": "stdout",
     "output_type": "stream",
     "text": [
      "Ave Loss: 0.12464344161517411\n",
      "Epoch: 20\n"
     ]
    },
    {
     "name": "stderr",
     "output_type": "stream",
     "text": [
      "100%|██████████| 103/103 [00:00<00:00, 139.88it/s, loss=0.0569]\n"
     ]
    },
    {
     "name": "stdout",
     "output_type": "stream",
     "text": [
      "Ave Loss: 0.11346135548885586\n",
      "Epoch: 21\n"
     ]
    },
    {
     "name": "stderr",
     "output_type": "stream",
     "text": [
      "100%|██████████| 103/103 [00:00<00:00, 185.35it/s, loss=0.0518]\n"
     ]
    },
    {
     "name": "stdout",
     "output_type": "stream",
     "text": [
      "Ave Loss: 0.10359966443869674\n",
      "Epoch: 22\n"
     ]
    },
    {
     "name": "stderr",
     "output_type": "stream",
     "text": [
      "100%|██████████| 103/103 [00:00<00:00, 222.37it/s, loss=0.0472]\n"
     ]
    },
    {
     "name": "stdout",
     "output_type": "stream",
     "text": [
      "Ave Loss: 0.09487779966546493\n",
      "Epoch: 23\n"
     ]
    },
    {
     "name": "stderr",
     "output_type": "stream",
     "text": [
      "100%|██████████| 103/103 [00:00<00:00, 125.44it/s, loss=0.0432]\n"
     ]
    },
    {
     "name": "stdout",
     "output_type": "stream",
     "text": [
      "Ave Loss: 0.08717286123812777\n",
      "Epoch: 24\n"
     ]
    },
    {
     "name": "stderr",
     "output_type": "stream",
     "text": [
      "100%|██████████| 103/103 [00:00<00:00, 256.85it/s, loss=0.0395]\n"
     ]
    },
    {
     "name": "stdout",
     "output_type": "stream",
     "text": [
      "Ave Loss: 0.08043054136836413\n",
      "Epoch: 25\n"
     ]
    },
    {
     "name": "stderr",
     "output_type": "stream",
     "text": [
      "100%|██████████| 103/103 [00:00<00:00, 222.90it/s, loss=0.0362]\n"
     ]
    },
    {
     "name": "stdout",
     "output_type": "stream",
     "text": [
      "Ave Loss: 0.07458901763396356\n",
      "Epoch: 26\n"
     ]
    },
    {
     "name": "stderr",
     "output_type": "stream",
     "text": [
      "100%|██████████| 103/103 [00:00<00:00, 255.42it/s, loss=0.0333]\n"
     ]
    },
    {
     "name": "stdout",
     "output_type": "stream",
     "text": [
      "Ave Loss: 0.06952898164541976\n",
      "Epoch: 27\n"
     ]
    },
    {
     "name": "stderr",
     "output_type": "stream",
     "text": [
      "100%|██████████| 103/103 [00:00<00:00, 144.53it/s, loss=0.0306]\n"
     ]
    },
    {
     "name": "stdout",
     "output_type": "stream",
     "text": [
      "Ave Loss: 0.06512314889543844\n",
      "Epoch: 28\n"
     ]
    },
    {
     "name": "stderr",
     "output_type": "stream",
     "text": [
      "100%|██████████| 103/103 [00:00<00:00, 203.97it/s, loss=0.0282]\n"
     ]
    },
    {
     "name": "stdout",
     "output_type": "stream",
     "text": [
      "Ave Loss: 0.06127151895712302\n",
      "Epoch: 29\n"
     ]
    },
    {
     "name": "stderr",
     "output_type": "stream",
     "text": [
      "100%|██████████| 103/103 [00:00<00:00, 216.88it/s, loss=0.0261]\n"
     ]
    },
    {
     "name": "stdout",
     "output_type": "stream",
     "text": [
      "Ave Loss: 0.057897767359481274\n",
      "Epoch: 30\n"
     ]
    },
    {
     "name": "stderr",
     "output_type": "stream",
     "text": [
      "100%|██████████| 103/103 [00:00<00:00, 247.97it/s, loss=0.0242]\n"
     ]
    },
    {
     "name": "stdout",
     "output_type": "stream",
     "text": [
      "Ave Loss: 0.05493784540341896\n",
      "Epoch: 31\n"
     ]
    },
    {
     "name": "stderr",
     "output_type": "stream",
     "text": [
      "100%|██████████| 103/103 [00:00<00:00, 172.38it/s, loss=0.0224]\n"
     ]
    },
    {
     "name": "stdout",
     "output_type": "stream",
     "text": [
      "Ave Loss: 0.052330796127614466\n",
      "Epoch: 32\n"
     ]
    },
    {
     "name": "stderr",
     "output_type": "stream",
     "text": [
      "100%|██████████| 103/103 [00:00<00:00, 145.56it/s, loss=0.0209]\n"
     ]
    },
    {
     "name": "stdout",
     "output_type": "stream",
     "text": [
      "Ave Loss: 0.050022851675748825\n",
      "Epoch: 33\n"
     ]
    },
    {
     "name": "stderr",
     "output_type": "stream",
     "text": [
      "100%|██████████| 103/103 [00:00<00:00, 196.30it/s, loss=0.0195]\n"
     ]
    },
    {
     "name": "stdout",
     "output_type": "stream",
     "text": [
      "Ave Loss: 0.04798378567527799\n",
      "Epoch: 34\n"
     ]
    },
    {
     "name": "stderr",
     "output_type": "stream",
     "text": [
      "100%|██████████| 103/103 [00:00<00:00, 183.61it/s, loss=0.0182]\n"
     ]
    },
    {
     "name": "stdout",
     "output_type": "stream",
     "text": [
      "Ave Loss: 0.04620164479083807\n",
      "Epoch: 35\n"
     ]
    },
    {
     "name": "stderr",
     "output_type": "stream",
     "text": [
      "100%|██████████| 103/103 [00:00<00:00, 226.94it/s, loss=0.017]\n"
     ]
    },
    {
     "name": "stdout",
     "output_type": "stream",
     "text": [
      "Ave Loss: 0.04463969570702141\n",
      "Epoch: 36\n"
     ]
    },
    {
     "name": "stderr",
     "output_type": "stream",
     "text": [
      "100%|██████████| 103/103 [00:00<00:00, 262.54it/s, loss=0.016]\n"
     ]
    },
    {
     "name": "stdout",
     "output_type": "stream",
     "text": [
      "Ave Loss: 0.04321343847776501\n",
      "Epoch: 37\n"
     ]
    },
    {
     "name": "stderr",
     "output_type": "stream",
     "text": [
      "100%|██████████| 103/103 [00:00<00:00, 235.78it/s, loss=0.015]\n"
     ]
    },
    {
     "name": "stdout",
     "output_type": "stream",
     "text": [
      "Ave Loss: 0.04180915692586054\n",
      "Epoch: 38\n"
     ]
    },
    {
     "name": "stderr",
     "output_type": "stream",
     "text": [
      "100%|██████████| 103/103 [00:00<00:00, 209.12it/s, loss=0.0141]\n"
     ]
    },
    {
     "name": "stdout",
     "output_type": "stream",
     "text": [
      "Ave Loss: 0.040348413490771666\n",
      "Epoch: 39\n"
     ]
    },
    {
     "name": "stderr",
     "output_type": "stream",
     "text": [
      "100%|██████████| 103/103 [00:00<00:00, 131.00it/s, loss=0.0133]\n"
     ]
    },
    {
     "name": "stdout",
     "output_type": "stream",
     "text": [
      "Ave Loss: 0.0388829167389754\n",
      "Epoch: 40\n"
     ]
    },
    {
     "name": "stderr",
     "output_type": "stream",
     "text": [
      "100%|██████████| 103/103 [00:00<00:00, 176.12it/s, loss=0.0125]\n"
     ]
    },
    {
     "name": "stdout",
     "output_type": "stream",
     "text": [
      "Ave Loss: 0.03755352324218426\n",
      "Epoch: 41\n"
     ]
    },
    {
     "name": "stderr",
     "output_type": "stream",
     "text": [
      "100%|██████████| 103/103 [00:00<00:00, 207.52it/s, loss=0.0117]\n"
     ]
    },
    {
     "name": "stdout",
     "output_type": "stream",
     "text": [
      "Ave Loss: 0.03640169562609161\n",
      "Epoch: 42\n"
     ]
    },
    {
     "name": "stderr",
     "output_type": "stream",
     "text": [
      "100%|██████████| 103/103 [00:00<00:00, 162.48it/s, loss=0.011]\n"
     ]
    },
    {
     "name": "stdout",
     "output_type": "stream",
     "text": [
      "Ave Loss: 0.03537705247697321\n",
      "Epoch: 43\n"
     ]
    },
    {
     "name": "stderr",
     "output_type": "stream",
     "text": [
      "100%|██████████| 103/103 [00:00<00:00, 155.24it/s, loss=0.0104]\n"
     ]
    },
    {
     "name": "stdout",
     "output_type": "stream",
     "text": [
      "Ave Loss: 0.034442919252205245\n",
      "Epoch: 44\n"
     ]
    },
    {
     "name": "stderr",
     "output_type": "stream",
     "text": [
      "100%|██████████| 103/103 [00:00<00:00, 124.57it/s, loss=0.0098]\n"
     ]
    },
    {
     "name": "stdout",
     "output_type": "stream",
     "text": [
      "Ave Loss: 0.033581261486900084\n",
      "Epoch: 45\n"
     ]
    },
    {
     "name": "stderr",
     "output_type": "stream",
     "text": [
      "100%|██████████| 103/103 [00:00<00:00, 123.51it/s, loss=0.00924]\n"
     ]
    },
    {
     "name": "stdout",
     "output_type": "stream",
     "text": [
      "Ave Loss: 0.03284624114958117\n",
      "Epoch: 46\n"
     ]
    },
    {
     "name": "stderr",
     "output_type": "stream",
     "text": [
      "100%|██████████| 103/103 [00:00<00:00, 121.23it/s, loss=0.00872]\n"
     ]
    },
    {
     "name": "stdout",
     "output_type": "stream",
     "text": [
      "Ave Loss: 0.03233635278183569\n",
      "Epoch: 47\n"
     ]
    },
    {
     "name": "stderr",
     "output_type": "stream",
     "text": [
      "100%|██████████| 103/103 [00:00<00:00, 127.22it/s, loss=0.00823]\n"
     ]
    },
    {
     "name": "stdout",
     "output_type": "stream",
     "text": [
      "Ave Loss: 0.031974067368987696\n",
      "Epoch: 48\n"
     ]
    },
    {
     "name": "stderr",
     "output_type": "stream",
     "text": [
      "100%|██████████| 103/103 [00:00<00:00, 139.29it/s, loss=0.00779]\n"
     ]
    },
    {
     "name": "stdout",
     "output_type": "stream",
     "text": [
      "Ave Loss: 0.03141074018661403\n",
      "Epoch: 49\n"
     ]
    },
    {
     "name": "stderr",
     "output_type": "stream",
     "text": [
      "100%|██████████| 103/103 [00:00<00:00, 125.62it/s, loss=0.00738]\n"
     ]
    },
    {
     "name": "stdout",
     "output_type": "stream",
     "text": [
      "Ave Loss: 0.030731867827041057\n",
      "Epoch: 50\n"
     ]
    },
    {
     "name": "stderr",
     "output_type": "stream",
     "text": [
      "100%|██████████| 103/103 [00:00<00:00, 128.46it/s, loss=0.007] \n"
     ]
    },
    {
     "name": "stdout",
     "output_type": "stream",
     "text": [
      "Ave Loss: 0.030072812235109436\n",
      "Epoch: 51\n"
     ]
    },
    {
     "name": "stderr",
     "output_type": "stream",
     "text": [
      "100%|██████████| 103/103 [00:00<00:00, 131.09it/s, loss=0.00666]\n"
     ]
    },
    {
     "name": "stdout",
     "output_type": "stream",
     "text": [
      "Ave Loss: 0.02925911097724027\n",
      "Epoch: 52\n"
     ]
    },
    {
     "name": "stderr",
     "output_type": "stream",
     "text": [
      "100%|██████████| 103/103 [00:00<00:00, 144.75it/s, loss=0.00634]\n"
     ]
    },
    {
     "name": "stdout",
     "output_type": "stream",
     "text": [
      "Ave Loss: 0.028251059353351593\n",
      "Epoch: 53\n"
     ]
    },
    {
     "name": "stderr",
     "output_type": "stream",
     "text": [
      "100%|██████████| 103/103 [00:00<00:00, 157.35it/s, loss=0.006] \n"
     ]
    },
    {
     "name": "stdout",
     "output_type": "stream",
     "text": [
      "Ave Loss: 0.02689757128924276\n",
      "Epoch: 54\n"
     ]
    },
    {
     "name": "stderr",
     "output_type": "stream",
     "text": [
      "100%|██████████| 103/103 [00:00<00:00, 128.45it/s, loss=0.00569]\n"
     ]
    },
    {
     "name": "stdout",
     "output_type": "stream",
     "text": [
      "Ave Loss: 0.02598826382399618\n",
      "Epoch: 55\n"
     ]
    },
    {
     "name": "stderr",
     "output_type": "stream",
     "text": [
      "100%|██████████| 103/103 [00:00<00:00, 120.81it/s, loss=0.0054]\n"
     ]
    },
    {
     "name": "stdout",
     "output_type": "stream",
     "text": [
      "Ave Loss: 0.02532033247927439\n",
      "Epoch: 56\n"
     ]
    },
    {
     "name": "stderr",
     "output_type": "stream",
     "text": [
      "100%|██████████| 103/103 [00:00<00:00, 143.91it/s, loss=0.00514]\n"
     ]
    },
    {
     "name": "stdout",
     "output_type": "stream",
     "text": [
      "Ave Loss: 0.024697493906449347\n",
      "Epoch: 57\n"
     ]
    },
    {
     "name": "stderr",
     "output_type": "stream",
     "text": [
      "100%|██████████| 103/103 [00:00<00:00, 128.98it/s, loss=0.0049] \n"
     ]
    },
    {
     "name": "stdout",
     "output_type": "stream",
     "text": [
      "Ave Loss: 0.02411461744041553\n",
      "Epoch: 58\n"
     ]
    },
    {
     "name": "stderr",
     "output_type": "stream",
     "text": [
      "100%|██████████| 103/103 [00:00<00:00, 141.01it/s, loss=0.00468]\n"
     ]
    },
    {
     "name": "stdout",
     "output_type": "stream",
     "text": [
      "Ave Loss: 0.023615718746865258\n",
      "Epoch: 59\n"
     ]
    },
    {
     "name": "stderr",
     "output_type": "stream",
     "text": [
      "100%|██████████| 103/103 [00:00<00:00, 146.09it/s, loss=0.00448]\n"
     ]
    },
    {
     "name": "stdout",
     "output_type": "stream",
     "text": [
      "Ave Loss: 0.023265875618253808\n",
      "Epoch: 60\n"
     ]
    },
    {
     "name": "stderr",
     "output_type": "stream",
     "text": [
      "100%|██████████| 103/103 [00:00<00:00, 123.02it/s, loss=0.00429]\n"
     ]
    },
    {
     "name": "stdout",
     "output_type": "stream",
     "text": [
      "Ave Loss: 0.023110208942473513\n",
      "Epoch: 61\n"
     ]
    },
    {
     "name": "stderr",
     "output_type": "stream",
     "text": [
      "100%|██████████| 103/103 [00:00<00:00, 163.08it/s, loss=0.0041]\n"
     ]
    },
    {
     "name": "stdout",
     "output_type": "stream",
     "text": [
      "Ave Loss: 0.02281736952786162\n",
      "Epoch: 62\n"
     ]
    },
    {
     "name": "stderr",
     "output_type": "stream",
     "text": [
      "100%|██████████| 103/103 [00:00<00:00, 148.99it/s, loss=0.00393]\n"
     ]
    },
    {
     "name": "stdout",
     "output_type": "stream",
     "text": [
      "Ave Loss: 0.022247609162468065\n",
      "Epoch: 63\n"
     ]
    },
    {
     "name": "stderr",
     "output_type": "stream",
     "text": [
      "100%|██████████| 103/103 [00:00<00:00, 162.84it/s, loss=0.00376]\n"
     ]
    },
    {
     "name": "stdout",
     "output_type": "stream",
     "text": [
      "Ave Loss: 0.021627485526056544\n",
      "Epoch: 64\n"
     ]
    },
    {
     "name": "stderr",
     "output_type": "stream",
     "text": [
      "100%|██████████| 103/103 [00:00<00:00, 180.03it/s, loss=0.00361]\n"
     ]
    },
    {
     "name": "stdout",
     "output_type": "stream",
     "text": [
      "Ave Loss: 0.021120131831815086\n",
      "Epoch: 65\n"
     ]
    },
    {
     "name": "stderr",
     "output_type": "stream",
     "text": [
      "100%|██████████| 103/103 [00:00<00:00, 130.72it/s, loss=0.00347]\n"
     ]
    },
    {
     "name": "stdout",
     "output_type": "stream",
     "text": [
      "Ave Loss: 0.020721044447905953\n",
      "Epoch: 66\n"
     ]
    },
    {
     "name": "stderr",
     "output_type": "stream",
     "text": [
      "100%|██████████| 103/103 [00:00<00:00, 136.56it/s, loss=0.00334]\n"
     ]
    },
    {
     "name": "stdout",
     "output_type": "stream",
     "text": [
      "Ave Loss: 0.02039952875223481\n",
      "Epoch: 67\n"
     ]
    },
    {
     "name": "stderr",
     "output_type": "stream",
     "text": [
      "100%|██████████| 103/103 [00:00<00:00, 211.22it/s, loss=0.00321]\n"
     ]
    },
    {
     "name": "stdout",
     "output_type": "stream",
     "text": [
      "Ave Loss: 0.020125878762309122\n",
      "Epoch: 68\n"
     ]
    },
    {
     "name": "stderr",
     "output_type": "stream",
     "text": [
      "100%|██████████| 103/103 [00:00<00:00, 280.00it/s, loss=0.0031]\n"
     ]
    },
    {
     "name": "stdout",
     "output_type": "stream",
     "text": [
      "Ave Loss: 0.019895077814140075\n",
      "Epoch: 69\n"
     ]
    },
    {
     "name": "stderr",
     "output_type": "stream",
     "text": [
      "100%|██████████| 103/103 [00:00<00:00, 274.05it/s, loss=0.00299]\n"
     ]
    },
    {
     "name": "stdout",
     "output_type": "stream",
     "text": [
      "Ave Loss: 0.019757197894047476\n",
      "Epoch: 70\n"
     ]
    },
    {
     "name": "stderr",
     "output_type": "stream",
     "text": [
      "100%|██████████| 103/103 [00:00<00:00, 306.68it/s, loss=0.0029]\n"
     ]
    },
    {
     "name": "stdout",
     "output_type": "stream",
     "text": [
      "Ave Loss: 0.019845549731506307\n",
      "Epoch: 71\n"
     ]
    },
    {
     "name": "stderr",
     "output_type": "stream",
     "text": [
      "100%|██████████| 103/103 [00:00<00:00, 306.68it/s, loss=0.00281]\n"
     ]
    },
    {
     "name": "stdout",
     "output_type": "stream",
     "text": [
      "Ave Loss: 0.019655081079549438\n",
      "Epoch: 72\n"
     ]
    },
    {
     "name": "stderr",
     "output_type": "stream",
     "text": [
      "100%|██████████| 103/103 [00:00<00:00, 203.34it/s, loss=0.00271]\n"
     ]
    },
    {
     "name": "stdout",
     "output_type": "stream",
     "text": [
      "Ave Loss: 0.018016912978938194\n",
      "Epoch: 73\n"
     ]
    },
    {
     "name": "stderr",
     "output_type": "stream",
     "text": [
      "100%|██████████| 103/103 [00:00<00:00, 195.26it/s, loss=0.00261]\n"
     ]
    },
    {
     "name": "stdout",
     "output_type": "stream",
     "text": [
      "Ave Loss: 0.01693457515584757\n",
      "Epoch: 74\n"
     ]
    },
    {
     "name": "stderr",
     "output_type": "stream",
     "text": [
      "100%|██████████| 103/103 [00:00<00:00, 202.83it/s, loss=0.00251]\n"
     ]
    },
    {
     "name": "stdout",
     "output_type": "stream",
     "text": [
      "Ave Loss: 0.01637023515791352\n",
      "Epoch: 75\n"
     ]
    },
    {
     "name": "stderr",
     "output_type": "stream",
     "text": [
      "100%|██████████| 103/103 [00:00<00:00, 193.02it/s, loss=0.00242]\n"
     ]
    },
    {
     "name": "stdout",
     "output_type": "stream",
     "text": [
      "Ave Loss: 0.01591900971862804\n",
      "Epoch: 76\n"
     ]
    },
    {
     "name": "stderr",
     "output_type": "stream",
     "text": [
      "100%|██████████| 103/103 [00:00<00:00, 206.15it/s, loss=0.00233]\n"
     ]
    },
    {
     "name": "stdout",
     "output_type": "stream",
     "text": [
      "Ave Loss: 0.015498125889492266\n",
      "Epoch: 77\n"
     ]
    },
    {
     "name": "stderr",
     "output_type": "stream",
     "text": [
      "100%|██████████| 103/103 [00:00<00:00, 132.48it/s, loss=0.00225]\n"
     ]
    },
    {
     "name": "stdout",
     "output_type": "stream",
     "text": [
      "Ave Loss: 0.01513799445622248\n",
      "Epoch: 78\n"
     ]
    },
    {
     "name": "stderr",
     "output_type": "stream",
     "text": [
      "100%|██████████| 103/103 [00:00<00:00, 166.41it/s, loss=0.00217]\n"
     ]
    },
    {
     "name": "stdout",
     "output_type": "stream",
     "text": [
      "Ave Loss: 0.014826046266746752\n",
      "Epoch: 79\n"
     ]
    },
    {
     "name": "stderr",
     "output_type": "stream",
     "text": [
      "100%|██████████| 103/103 [00:00<00:00, 146.24it/s, loss=0.00209]\n"
     ]
    },
    {
     "name": "stdout",
     "output_type": "stream",
     "text": [
      "Ave Loss: 0.014555593821428065\n",
      "Epoch: 80\n"
     ]
    },
    {
     "name": "stderr",
     "output_type": "stream",
     "text": [
      "100%|██████████| 103/103 [00:00<00:00, 127.18it/s, loss=0.00202]\n"
     ]
    },
    {
     "name": "stdout",
     "output_type": "stream",
     "text": [
      "Ave Loss: 0.014319963088638863\n",
      "Epoch: 81\n"
     ]
    },
    {
     "name": "stderr",
     "output_type": "stream",
     "text": [
      "100%|██████████| 103/103 [00:00<00:00, 182.85it/s, loss=0.00195]\n"
     ]
    },
    {
     "name": "stdout",
     "output_type": "stream",
     "text": [
      "Ave Loss: 0.01411023241178431\n",
      "Epoch: 82\n"
     ]
    },
    {
     "name": "stderr",
     "output_type": "stream",
     "text": [
      "100%|██████████| 103/103 [00:00<00:00, 128.18it/s, loss=0.00188]\n"
     ]
    },
    {
     "name": "stdout",
     "output_type": "stream",
     "text": [
      "Ave Loss: 0.01391956311971564\n",
      "Epoch: 83\n"
     ]
    },
    {
     "name": "stderr",
     "output_type": "stream",
     "text": [
      "100%|██████████| 103/103 [00:00<00:00, 179.48it/s, loss=0.00182]\n"
     ]
    },
    {
     "name": "stdout",
     "output_type": "stream",
     "text": [
      "Ave Loss: 0.013743752242943037\n",
      "Epoch: 84\n"
     ]
    },
    {
     "name": "stderr",
     "output_type": "stream",
     "text": [
      "100%|██████████| 103/103 [00:00<00:00, 138.27it/s, loss=0.00176]\n"
     ]
    },
    {
     "name": "stdout",
     "output_type": "stream",
     "text": [
      "Ave Loss: 0.013580172526134738\n",
      "Epoch: 85\n"
     ]
    },
    {
     "name": "stderr",
     "output_type": "stream",
     "text": [
      "100%|██████████| 103/103 [00:00<00:00, 130.56it/s, loss=0.0017] \n"
     ]
    },
    {
     "name": "stdout",
     "output_type": "stream",
     "text": [
      "Ave Loss: 0.013427062469842002\n",
      "Epoch: 86\n"
     ]
    },
    {
     "name": "stderr",
     "output_type": "stream",
     "text": [
      "100%|██████████| 103/103 [00:00<00:00, 124.20it/s, loss=0.00164]\n"
     ]
    },
    {
     "name": "stdout",
     "output_type": "stream",
     "text": [
      "Ave Loss: 0.013283182924513895\n",
      "Epoch: 87\n"
     ]
    },
    {
     "name": "stderr",
     "output_type": "stream",
     "text": [
      "100%|██████████| 103/103 [00:00<00:00, 123.15it/s, loss=0.00159]\n"
     ]
    },
    {
     "name": "stdout",
     "output_type": "stream",
     "text": [
      "Ave Loss: 0.013147632602728831\n",
      "Epoch: 88\n"
     ]
    },
    {
     "name": "stderr",
     "output_type": "stream",
     "text": [
      "100%|██████████| 103/103 [00:00<00:00, 141.87it/s, loss=0.00154]\n"
     ]
    },
    {
     "name": "stdout",
     "output_type": "stream",
     "text": [
      "Ave Loss: 0.013019773522527546\n",
      "Epoch: 89\n"
     ]
    },
    {
     "name": "stderr",
     "output_type": "stream",
     "text": [
      "100%|██████████| 103/103 [00:00<00:00, 124.68it/s, loss=0.00149]\n"
     ]
    },
    {
     "name": "stdout",
     "output_type": "stream",
     "text": [
      "Ave Loss: 0.012899197002836657\n",
      "Epoch: 90\n"
     ]
    },
    {
     "name": "stderr",
     "output_type": "stream",
     "text": [
      "100%|██████████| 103/103 [00:00<00:00, 132.74it/s, loss=0.00144]\n"
     ]
    },
    {
     "name": "stdout",
     "output_type": "stream",
     "text": [
      "Ave Loss: 0.01278579396136937\n",
      "Epoch: 91\n"
     ]
    },
    {
     "name": "stderr",
     "output_type": "stream",
     "text": [
      "100%|██████████| 103/103 [00:00<00:00, 120.70it/s, loss=0.0014]\n"
     ]
    },
    {
     "name": "stdout",
     "output_type": "stream",
     "text": [
      "Ave Loss: 0.012679817820718349\n",
      "Epoch: 92\n"
     ]
    },
    {
     "name": "stderr",
     "output_type": "stream",
     "text": [
      "100%|██████████| 103/103 [00:00<00:00, 122.21it/s, loss=0.00135]\n"
     ]
    },
    {
     "name": "stdout",
     "output_type": "stream",
     "text": [
      "Ave Loss: 0.012581893699514924\n",
      "Epoch: 93\n"
     ]
    },
    {
     "name": "stderr",
     "output_type": "stream",
     "text": [
      "100%|██████████| 103/103 [00:00<00:00, 124.83it/s, loss=0.00131]\n"
     ]
    },
    {
     "name": "stdout",
     "output_type": "stream",
     "text": [
      "Ave Loss: 0.012493022184059458\n",
      "Epoch: 94\n"
     ]
    },
    {
     "name": "stderr",
     "output_type": "stream",
     "text": [
      "100%|██████████| 103/103 [00:00<00:00, 138.19it/s, loss=0.00128]\n"
     ]
    },
    {
     "name": "stdout",
     "output_type": "stream",
     "text": [
      "Ave Loss: 0.012414350984753698\n",
      "Epoch: 95\n"
     ]
    },
    {
     "name": "stderr",
     "output_type": "stream",
     "text": [
      "100%|██████████| 103/103 [00:00<00:00, 133.26it/s, loss=0.00124]\n"
     ]
    },
    {
     "name": "stdout",
     "output_type": "stream",
     "text": [
      "Ave Loss: 0.012347162206141838\n",
      "Epoch: 96\n"
     ]
    },
    {
     "name": "stderr",
     "output_type": "stream",
     "text": [
      "100%|██████████| 103/103 [00:00<00:00, 133.66it/s, loss=0.00121]\n"
     ]
    },
    {
     "name": "stdout",
     "output_type": "stream",
     "text": [
      "Ave Loss: 0.012293612245397949\n",
      "Epoch: 97\n"
     ]
    },
    {
     "name": "stderr",
     "output_type": "stream",
     "text": [
      "100%|██████████| 103/103 [00:00<00:00, 151.89it/s, loss=0.00118]\n"
     ]
    },
    {
     "name": "stdout",
     "output_type": "stream",
     "text": [
      "Ave Loss: 0.012258439662739706\n",
      "Epoch: 98\n"
     ]
    },
    {
     "name": "stderr",
     "output_type": "stream",
     "text": [
      "100%|██████████| 103/103 [00:00<00:00, 132.57it/s, loss=0.00115]\n"
     ]
    },
    {
     "name": "stdout",
     "output_type": "stream",
     "text": [
      "Ave Loss: 0.012249586875414819\n",
      "Epoch: 99\n"
     ]
    },
    {
     "name": "stderr",
     "output_type": "stream",
     "text": [
      "100%|██████████| 103/103 [00:00<00:00, 159.31it/s, loss=0.00112]"
     ]
    },
    {
     "name": "stdout",
     "output_type": "stream",
     "text": [
      "Ave Loss: 0.01227575335968105\n"
     ]
    },
    {
     "name": "stderr",
     "output_type": "stream",
     "text": [
      "\n"
     ]
    }
   ],
   "source": [
    "# Define the training process\n",
    "# Each call of the train function == 1 Epoch\n",
    "def train_fn(loader, model, optimizer, loss_fn, batch_size):\n",
    "    loop = tqdm(loader)\n",
    "    \n",
    "    count = 0\n",
    "    ave_loss = 0.00\n",
    "    \n",
    "    # Loop per batch\n",
    "    for batch_idx, (data, targets) in enumerate(loop):\n",
    "        predictions = model.forward(data)\n",
    "        \n",
    "        loss = loss_fn(predictions, targets)\n",
    "        \n",
    "        optimizer.zero_grad()\n",
    "        \n",
    "        loss.backward()\n",
    "        \n",
    "        optimizer.step()\n",
    "        \n",
    "        loop.set_postfix(loss=loss.item())\n",
    "        \n",
    "        ave_loss += loss.item()\n",
    "        count += 1\n",
    "        \n",
    "    ave_loss = ave_loss / count\n",
    "    \n",
    "    return ave_loss\n",
    "\n",
    "# Dataloader is in charge of:\n",
    "# - partitioning data into batches\n",
    "# - optionally shuffling the data\n",
    "# - run the optimizer against a partition defined by this loader\n",
    "custom_dataset = MyCustomDataset(x=x_train, y=y_train)\n",
    "\n",
    "train_loader = DataLoader(\n",
    "    custom_dataset,\n",
    "    batch_size=batch_size,\n",
    "    shuffle=False,\n",
    "    drop_last=False\n",
    ")\n",
    "\n",
    "epochs = 100\n",
    "losses = []\n",
    "\n",
    "for epoch in range(epochs):\n",
    "    print(\"Epoch: {}\".format(epoch))\n",
    "    \n",
    "    ave_loss = train_fn(\n",
    "        train_loader,\n",
    "        model,\n",
    "        optimizer,\n",
    "        loss_fn,\n",
    "        batch_size\n",
    "    )\n",
    "    \n",
    "    losses.append(ave_loss)\n",
    "    \n",
    "    print(\"Ave Loss: {}\".format(ave_loss))\n",
    "    \n",
    "state = { 'state_dict': model.state_dict() }\n",
    "\n",
    "torch.save(state, \"neural.pth\")"
   ]
  },
  {
   "cell_type": "code",
   "execution_count": 18,
   "id": "7c5203ee",
   "metadata": {},
   "outputs": [
    {
     "data": {
      "image/png": "[encoded data removed]",
      "text/plain": [
       "<Figure size 640x480 with 1 Axes>"
      ]
     },
     "metadata": {},
     "output_type": "display_data"
    }
   ],
   "source": [
    "plt.plot(losses, label='loss', color='red')\n",
    "plt.title('Training Evaluation', fontsize=14)\n",
    "plt.xlabel('Epoch', fontsize=14)\n",
    "plt.ylabel('Error Value', fontsize=14)\n",
    "plt.grid(True)\n",
    "plt.legend()\n",
    "plt.show()"
   ]
  },
  {
   "cell_type": "code",
   "execution_count": 19,
   "id": "db259bc6",
   "metadata": {},
   "outputs": [
    {
     "data": {
      "text/plain": [
       "<All keys matched successfully>"
      ]
     },
     "execution_count": 19,
     "metadata": {},
     "output_type": "execute_result"
    }
   ],
   "source": [
    "model = NeuralNetwork(30,2)\n",
    "state = torch.load(\"neural.pth\")\n",
    "model.load_state_dict(state['state_dict'])"
   ]
  },
  {
   "cell_type": "code",
   "execution_count": 20,
   "id": "3f975bab",
   "metadata": {},
   "outputs": [
    {
     "data": {
      "text/plain": [
       "tensor([[0.9462, 0.0550],\n",
       "        [0.0364, 0.9627],\n",
       "        [0.9669, 0.0339],\n",
       "        [0.0362, 0.9628],\n",
       "        [0.0646, 0.9338],\n",
       "        [0.0363, 0.9628],\n",
       "        [0.0362, 0.9629],\n",
       "        [0.0367, 0.9624],\n",
       "        [0.9669, 0.0339],\n",
       "        [0.9664, 0.0344],\n",
       "        [0.9669, 0.0339],\n",
       "        [0.0363, 0.9627],\n",
       "        [0.0362, 0.9628],\n",
       "        [0.9669, 0.0339],\n",
       "        [0.9637, 0.0372],\n",
       "        [0.9664, 0.0344],\n",
       "        [0.9669, 0.0339],\n",
       "        [0.9669, 0.0339],\n",
       "        [0.9669, 0.0339],\n",
       "        [0.0362, 0.9629],\n",
       "        [0.9669, 0.0339],\n",
       "        [0.9669, 0.0339],\n",
       "        [0.0362, 0.9629],\n",
       "        [0.9668, 0.0340],\n",
       "        [0.0363, 0.9628],\n",
       "        [0.9668, 0.0340],\n",
       "        [0.9661, 0.0348],\n",
       "        [0.0362, 0.9629],\n",
       "        [0.0362, 0.9629],\n",
       "        [0.0363, 0.9627],\n",
       "        [0.0362, 0.9629],\n",
       "        [0.9669, 0.0339],\n",
       "        [0.0362, 0.9629],\n",
       "        [0.0365, 0.9625],\n",
       "        [0.9669, 0.0339],\n",
       "        [0.9669, 0.0339],\n",
       "        [0.0363, 0.9627],\n",
       "        [0.9665, 0.0343],\n",
       "        [0.2472, 0.7501],\n",
       "        [0.9669, 0.0339],\n",
       "        [0.9669, 0.0339],\n",
       "        [0.9654, 0.0354],\n",
       "        [0.9668, 0.0340],\n",
       "        [0.9669, 0.0339],\n",
       "        [0.9667, 0.0341],\n",
       "        [0.0362, 0.9629],\n",
       "        [0.9669, 0.0339],\n",
       "        [0.9669, 0.0339],\n",
       "        [0.9664, 0.0344],\n",
       "        [0.0363, 0.9627],\n",
       "        [0.0362, 0.9629],\n",
       "        [0.0362, 0.9629],\n",
       "        [0.9668, 0.0340],\n",
       "        [0.9669, 0.0339],\n",
       "        [0.9669, 0.0339],\n",
       "        [0.9669, 0.0339],\n",
       "        [0.9669, 0.0339]], grad_fn=<SigmoidBackward0>)"
      ]
     },
     "execution_count": 20,
     "metadata": {},
     "output_type": "execute_result"
    }
   ],
   "source": [
    "predictions_after = model.forward(torch.Tensor(x_test))\n",
    "predictions_after\n"
   ]
  },
  {
   "cell_type": "code",
   "execution_count": 21,
   "id": "2083d54c",
   "metadata": {},
   "outputs": [
    {
     "data": {
      "text/plain": [
       "array([[0.946193  , 0.05503882],\n",
       "       [0.03635376, 0.9626902 ],\n",
       "       [0.96687317, 0.03392349],\n",
       "       [0.03623933, 0.9628079 ],\n",
       "       [0.06456017, 0.93384385],\n",
       "       [0.03626219, 0.96278435],\n",
       "       [0.03617806, 0.96287096],\n",
       "       [0.03667143, 0.9623636 ],\n",
       "       [0.9669213 , 0.03387399],\n",
       "       [0.9664404 , 0.0343681 ],\n",
       "       [0.96692497, 0.03387023],\n",
       "       [0.03633336, 0.9627112 ],\n",
       "       [0.03623956, 0.96280766],\n",
       "       [0.96690434, 0.03389147],\n",
       "       [0.96368045, 0.03719839],\n",
       "       [0.96638787, 0.03442198],\n",
       "       [0.9669248 , 0.03387049],\n",
       "       [0.9668667 , 0.03393018],\n",
       "       [0.9669115 , 0.03388411],\n",
       "       [0.03618295, 0.9628659 ],\n",
       "       [0.9669106 , 0.03388508],\n",
       "       [0.966906  , 0.03388975],\n",
       "       [0.03618021, 0.96286863],\n",
       "       [0.9668453 , 0.03395214],\n",
       "       [0.03625513, 0.9627916 ],\n",
       "       [0.9667685 , 0.03403102],\n",
       "       [0.96605307, 0.03476571],\n",
       "       [0.03617909, 0.9628699 ],\n",
       "       [0.03616513, 0.96288425],\n",
       "       [0.03634254, 0.9627018 ],\n",
       "       [0.0361665 , 0.9628828 ],\n",
       "       [0.96692276, 0.03387256],\n",
       "       [0.03617703, 0.96287197],\n",
       "       [0.0364974 , 0.96254253],\n",
       "       [0.9669389 , 0.03385592],\n",
       "       [0.9669179 , 0.03387763],\n",
       "       [0.03631243, 0.96273273],\n",
       "       [0.96654785, 0.03425768],\n",
       "       [0.24718732, 0.750146  ],\n",
       "       [0.9668912 , 0.03390496],\n",
       "       [0.9669407 , 0.03385416],\n",
       "       [0.96540934, 0.03542623],\n",
       "       [0.9667623 , 0.03403747],\n",
       "       [0.9668975 , 0.0338985 ],\n",
       "       [0.9666868 , 0.03411503],\n",
       "       [0.03618881, 0.9628598 ],\n",
       "       [0.9669425 , 0.03385223],\n",
       "       [0.96694285, 0.03385192],\n",
       "       [0.96644366, 0.03436478],\n",
       "       [0.03629775, 0.9627479 ],\n",
       "       [0.03619189, 0.9628567 ],\n",
       "       [0.03616646, 0.9628828 ],\n",
       "       [0.96681356, 0.0339848 ],\n",
       "       [0.966942  , 0.03385269],\n",
       "       [0.9669329 , 0.03386213],\n",
       "       [0.96691406, 0.03388151],\n",
       "       [0.9669052 , 0.0338906 ]], dtype=float32)"
      ]
     },
     "execution_count": 21,
     "metadata": {},
     "output_type": "execute_result"
    }
   ],
   "source": [
    "predictions_after = predictions_after.detach().cpu().numpy()\n",
    "predictions_after"
   ]
  },
  {
   "cell_type": "code",
   "execution_count": 22,
   "id": "fcfef9f0",
   "metadata": {},
   "outputs": [],
   "source": [
    "predictions_after = [[1, 0] if y_hat[0] > y_hat[1] else [0, 1] for y_hat in predictions_after]"
   ]
  },
  {
   "cell_type": "code",
   "execution_count": 23,
   "id": "0629c1ac",
   "metadata": {},
   "outputs": [
    {
     "data": {
      "text/plain": [
       "1.0"
      ]
     },
     "execution_count": 23,
     "metadata": {},
     "output_type": "execute_result"
    }
   ],
   "source": [
    "from sklearn.metrics import accuracy_score\n",
    "\n",
    "accuracy = accuracy_score(y_test, predictions_after)\n",
    "accuracy"
   ]
  },
  {
   "cell_type": "code",
   "execution_count": 26,
   "id": "421374f3",
   "metadata": {},
   "outputs": [
    {
     "name": "stdout",
     "output_type": "stream",
     "text": [
      "OrderedDict([('hidden_layer_1.weight', tensor([[-2.7140e-01, -3.9316e-01, -3.8126e-01, -3.7650e-01,  1.2883e-01,\n",
      "         -2.9276e-01, -8.1657e-01, -1.0394e+00,  1.7226e-01,  6.1949e-01,\n",
      "         -1.0529e+00,  2.4266e-01, -8.9025e-01, -1.4528e+00, -1.9332e-01,\n",
      "          4.5473e-01,  2.6774e-01, -5.7232e-02,  2.5533e-01,  7.8015e-01,\n",
      "         -5.3263e-01, -4.4388e-01, -6.5477e-01, -7.9189e-01, -2.9452e-01,\n",
      "         -2.9168e-01, -6.4822e-01, -5.5937e-01, -6.7073e-01, -2.0004e-01],\n",
      "        [ 1.9325e-01,  3.3092e-01,  1.2365e-01,  2.7411e-01,  1.2271e-01,\n",
      "          4.7349e-02,  6.9688e-01,  9.6546e-01, -9.8501e-02, -6.2251e-01,\n",
      "          1.1466e+00, -3.6811e-01,  7.6384e-01,  1.5029e+00,  6.0171e-02,\n",
      "         -2.7841e-01, -2.9457e-01,  2.1185e-01, -3.9798e-01, -4.6343e-01,\n",
      "          5.1119e-01,  5.4949e-01,  3.8714e-01,  9.0562e-01,  3.0812e-01,\n",
      "          3.4180e-01,  7.0320e-01,  6.1426e-01,  3.9408e-01,  5.5767e-02],\n",
      "        [ 9.0239e-02,  3.3724e-01,  2.0252e-01,  2.8167e-01, -3.8638e-02,\n",
      "          2.6372e-01,  6.7865e-01,  9.9955e-01,  1.6766e-02, -5.9514e-01,\n",
      "          1.0313e+00, -3.7645e-01,  5.9486e-01,  1.5569e+00, -7.4930e-03,\n",
      "         -4.0779e-01, -2.8439e-02,  1.0550e-01, -4.4045e-01, -5.6904e-01,\n",
      "          6.3402e-01,  3.5745e-01,  5.0622e-01,  1.0085e+00,  5.1717e-01,\n",
      "          3.2624e-01,  5.7563e-01,  5.7076e-01,  4.6170e-01, -1.2327e-01],\n",
      "        [ 1.4102e-01,  4.6858e-01,  2.3382e-01,  4.7715e-01, -6.5751e-02,\n",
      "          2.1374e-01,  7.6906e-01,  6.9618e-01, -1.8409e-01, -6.4863e-01,\n",
      "          9.2873e-01, -2.7754e-01,  7.9643e-01,  1.1695e+00,  2.0388e-01,\n",
      "         -3.6756e-01, -3.7036e-01, -4.9170e-02, -3.9503e-01, -4.9424e-01,\n",
      "          6.4816e-01,  4.2116e-01,  4.4310e-01,  7.6243e-01,  3.8453e-01,\n",
      "          3.2167e-01,  5.0605e-01,  4.8742e-01,  5.5897e-01,  1.2458e-01],\n",
      "        [-2.4407e-01, -1.7578e-01,  1.2219e-02, -4.3436e-01,  9.1965e-02,\n",
      "         -1.8602e-01, -8.7854e-01, -1.0528e+00, -1.0161e-02,  5.7745e-01,\n",
      "         -1.1597e+00,  4.1304e-01, -8.1741e-01, -1.5532e+00, -9.3532e-02,\n",
      "          4.9955e-01,  9.3943e-02, -8.6662e-02,  4.5371e-01,  4.6100e-01,\n",
      "         -5.5762e-01, -3.1472e-01, -5.2205e-01, -1.0034e+00, -5.3512e-01,\n",
      "         -3.6174e-01, -7.1725e-01, -4.4257e-01, -5.4018e-01, -4.0276e-02],\n",
      "        [-8.0533e-02,  3.8591e-01,  1.6548e-01,  2.9044e-01,  2.6057e-02,\n",
      "          1.6810e-01,  5.9931e-01,  6.3934e-01, -2.2459e-01, -4.1056e-01,\n",
      "          9.6609e-01, -3.4973e-01,  7.5902e-01,  1.4079e+00,  3.3910e-02,\n",
      "         -5.9572e-01, -2.0030e-01,  9.2293e-02, -2.1067e-01, -6.2948e-01,\n",
      "          3.2498e-01,  6.1092e-01,  5.6612e-01,  6.6595e-01,  4.0628e-01,\n",
      "          8.9020e-02,  5.2998e-01,  5.3182e-01,  4.9419e-01, -1.3303e-02],\n",
      "        [-1.4044e-01, -3.6422e-01, -2.2776e-02, -3.7724e-01, -1.7963e-01,\n",
      "         -6.7384e-02, -7.3147e-01, -7.4912e-01,  2.2986e-01,  5.6313e-01,\n",
      "         -1.2307e+00,  4.2590e-01, -8.4724e-01, -1.4737e+00, -1.8205e-01,\n",
      "          5.1139e-01,  1.9470e-01, -9.2889e-02,  1.3499e-01,  5.9052e-01,\n",
      "         -6.0394e-01, -3.9891e-01, -5.8765e-01, -8.4630e-01, -3.6920e-01,\n",
      "         -3.4068e-01, -5.2241e-01, -6.8095e-01, -3.8362e-01, -3.5990e-02],\n",
      "        [-1.4337e-01, -3.8670e-01, -5.8593e-02, -5.2808e-01, -1.5171e-01,\n",
      "         -3.2751e-01, -7.2602e-01, -7.5478e-01,  1.0991e-01,  4.9769e-01,\n",
      "         -9.7831e-01,  3.3630e-01, -9.0908e-01, -1.2548e+00,  1.1015e-02,\n",
      "          5.9809e-01,  1.5164e-01,  2.1629e-02,  3.1845e-01,  5.1989e-01,\n",
      "         -4.5656e-01, -6.2803e-01, -3.7450e-01, -8.5959e-01, -4.1308e-01,\n",
      "         -4.7304e-02, -6.9171e-01, -7.1841e-01, -5.1881e-01, -7.2999e-03],\n",
      "        [-2.3068e-01, -4.3675e-01, -1.1252e-01, -4.6117e-01,  1.6956e-01,\n",
      "         -2.1144e-01, -6.8994e-01, -1.0591e+00,  1.4984e-02,  5.2949e-01,\n",
      "         -1.2156e+00,  4.0761e-01, -7.5431e-01, -1.4778e+00, -1.6919e-01,\n",
      "          6.4405e-01,  1.7872e-01, -1.9537e-01,  3.0895e-01,  5.5072e-01,\n",
      "         -5.5434e-01, -5.0274e-01, -5.8090e-01, -1.0391e+00, -2.3506e-01,\n",
      "         -2.8943e-01, -4.7085e-01, -5.3029e-01, -4.8456e-01, -1.1559e-01],\n",
      "        [-1.3293e-02, -5.2122e-01, -1.0274e-01, -3.2377e-01,  1.5731e-01,\n",
      "         -1.9876e-01, -7.8453e-01, -9.6511e-01,  2.1406e-01,  5.3831e-01,\n",
      "         -1.0990e+00,  1.2724e-01, -8.1848e-01, -1.4147e+00, -5.1281e-02,\n",
      "          4.8673e-01,  9.1101e-02, -5.2230e-02,  1.9038e-01,  5.6905e-01,\n",
      "         -4.9849e-01, -6.2847e-01, -5.7155e-01, -8.2648e-01, -4.0084e-01,\n",
      "         -2.3868e-01, -4.4530e-01, -4.9109e-01, -6.2951e-01,  1.1829e-01],\n",
      "        [-2.6478e-01, -4.0653e-01, -2.3382e-01, -4.6844e-01, -3.3426e-02,\n",
      "         -2.8529e-01, -7.2194e-01, -1.0433e+00,  1.5757e-01,  6.8200e-01,\n",
      "         -1.0042e+00,  3.9248e-01, -9.3193e-01, -1.5273e+00, -7.9853e-02,\n",
      "          4.4103e-01,  6.6528e-02, -9.4474e-02,  2.4334e-01,  5.0630e-01,\n",
      "         -5.7532e-01, -5.0001e-01, -4.4207e-01, -9.0823e-01, -2.5816e-01,\n",
      "         -1.1971e-01, -6.4079e-01, -4.7229e-01, -5.3278e-01, -2.2325e-01],\n",
      "        [-1.6905e-01, -3.9571e-01, -8.7585e-02, -3.4986e-01,  1.1534e-01,\n",
      "         -2.3793e-01, -7.9367e-01, -1.0674e+00,  1.7675e-01,  5.0956e-01,\n",
      "         -1.1028e+00,  1.0474e-01, -9.2908e-01, -1.3950e+00, -5.6907e-02,\n",
      "          4.2303e-01,  8.6238e-03, -1.4027e-01,  4.0858e-01,  4.9398e-01,\n",
      "         -6.8205e-01, -5.0444e-01, -6.7792e-01, -7.1219e-01, -3.0009e-01,\n",
      "         -2.4377e-01, -6.6352e-01, -4.7533e-01, -7.4252e-01, -1.0047e-01],\n",
      "        [-2.6567e-01, -4.8110e-01, -5.0363e-02, -4.3626e-01, -3.5167e-02,\n",
      "         -1.7755e-01, -8.7496e-01, -1.0899e+00,  1.3895e-01,  7.6027e-01,\n",
      "         -1.1288e+00,  1.6955e-01, -8.3804e-01, -1.5177e+00,  1.0796e-01,\n",
      "          3.4772e-01,  5.8646e-02, -3.4270e-02,  4.4218e-01,  8.3939e-01,\n",
      "         -4.2301e-01, -6.2113e-01, -4.2866e-01, -9.8940e-01, -4.7075e-01,\n",
      "         -3.1467e-01, -6.1463e-01, -6.6817e-01, -4.0407e-01, -2.6487e-02],\n",
      "        [ 6.1116e-02, -4.9506e-01, -3.0350e-01, -4.4466e-01, -1.0685e-01,\n",
      "         -2.7487e-01, -5.1662e-01, -9.8302e-01,  1.2577e-01,  7.1152e-01,\n",
      "         -1.1959e+00,  1.2419e-01, -6.5082e-01, -1.2379e+00, -1.3073e-01,\n",
      "          3.5197e-01,  2.9458e-01,  2.0819e-02,  3.5404e-01,  6.8724e-01,\n",
      "         -4.1863e-01, -5.8781e-01, -5.1503e-01, -6.9344e-01, -4.6788e-01,\n",
      "         -2.2920e-01, -6.7153e-01, -6.1248e-01, -4.5831e-01, -1.2871e-01],\n",
      "        [-1.7010e-01, -3.2887e-01, -1.3105e-01, -4.0106e-01,  1.2639e-01,\n",
      "         -1.5055e-01, -8.3373e-01, -7.7228e-01, -8.1821e-02,  5.5346e-01,\n",
      "         -1.1965e+00,  3.6752e-01, -9.0871e-01, -1.4358e+00, -4.3964e-02,\n",
      "          5.5500e-01,  2.6114e-01, -1.0176e-01,  1.5557e-01,  5.5607e-01,\n",
      "         -5.7815e-01, -5.3498e-01, -6.2320e-01, -7.4420e-01, -3.5564e-01,\n",
      "         -1.2778e-01, -7.5662e-01, -5.6426e-01, -3.9120e-01, -1.9716e-01],\n",
      "        [ 2.2848e-01,  1.5376e-01,  7.5655e-02,  2.3948e-01,  1.2049e-01,\n",
      "          1.9698e-01,  5.8993e-01,  7.4731e-01, -2.1837e-01, -6.5599e-01,\n",
      "          1.1149e+00, -2.6284e-01,  7.7027e-01,  1.4591e+00,  6.3656e-02,\n",
      "         -6.2306e-01, -3.2608e-01,  1.9052e-01, -4.1355e-01, -4.9566e-01,\n",
      "          5.5597e-01,  5.2609e-01,  6.0214e-01,  8.7856e-01,  4.4753e-01,\n",
      "         -7.5202e-04,  6.8533e-01,  6.7801e-01,  4.5592e-01, -1.9989e-02],\n",
      "        [ 1.4410e-02, -3.2228e-01, -1.9404e-01, -4.0691e-01, -5.9623e-02,\n",
      "         -2.2554e-01, -9.2994e-01, -9.3005e-01,  4.9797e-02,  5.5242e-01,\n",
      "         -1.0545e+00,  1.8281e-01, -7.9049e-01, -1.3672e+00, -1.8903e-01,\n",
      "          3.4831e-01,  8.2772e-02, -1.1644e-01,  4.5990e-01,  5.7810e-01,\n",
      "         -7.2298e-01, -4.5345e-01, -4.0980e-01, -1.0368e+00, -2.3637e-01,\n",
      "         -2.2811e-01, -5.3911e-01, -5.3611e-01, -6.7566e-01, -1.9637e-01],\n",
      "        [ 1.3738e-02,  3.6118e-01,  2.9454e-01,  4.1705e-01, -7.8184e-02,\n",
      "          2.2898e-01,  8.0038e-01,  8.2535e-01,  5.0644e-02, -4.7424e-01,\n",
      "          1.0044e+00, -4.4045e-01,  5.4195e-01,  1.1645e+00,  2.4524e-01,\n",
      "         -4.7078e-01, -9.9408e-02,  2.2826e-01, -2.1212e-01, -7.7277e-01,\n",
      "          3.7716e-01,  4.6533e-01,  3.1926e-01,  6.9040e-01,  3.8403e-01,\n",
      "          2.8584e-01,  5.1111e-01,  4.0324e-01,  4.5408e-01, -1.0917e-01],\n",
      "        [-2.8253e-01, -2.3137e-01, -1.5021e-01, -2.1274e-01, -7.2753e-02,\n",
      "         -1.7120e-01, -8.5700e-01, -9.1195e-01,  1.6837e-02,  7.5873e-01,\n",
      "         -9.3800e-01,  2.3562e-01, -8.6061e-01, -1.4860e+00, -2.3388e-01,\n",
      "          5.8759e-01,  2.0390e-01, -1.4962e-01,  4.1028e-01,  8.3931e-01,\n",
      "         -4.0135e-01, -4.1304e-01, -5.0592e-01, -7.1037e-01, -2.6117e-01,\n",
      "         -3.2274e-01, -7.4070e-01, -7.3294e-01, -5.6577e-01,  5.0554e-02],\n",
      "        [ 2.7229e-01,  4.1131e-01,  3.1098e-01,  4.3629e-01, -7.3178e-02,\n",
      "          2.6697e-01,  8.8884e-01,  1.0259e+00, -5.1413e-02, -5.5861e-01,\n",
      "          9.6062e-01, -1.0605e-01,  8.6842e-01,  1.3417e+00,  1.2935e-01,\n",
      "         -5.2176e-01, -8.8035e-02,  4.4569e-02, -4.0672e-01, -7.5128e-01,\n",
      "          4.5449e-01,  4.7428e-01,  5.5451e-01,  7.7627e-01,  3.4109e-01,\n",
      "          1.6300e-01,  4.3528e-01,  5.5999e-01,  4.5008e-01, -2.8645e-02]])), ('hidden_layer_1.bias', tensor([ 0.8830, -0.8850, -0.9305, -0.6119,  0.7139, -0.5904,  0.7714,  0.8721,\n",
      "         0.7134,  0.6894,  0.6562,  0.8250,  0.7649,  0.9103,  0.6431, -0.8769,\n",
      "         0.9095, -0.7269,  0.6351, -0.8952])), ('hidden_layer_2.weight', tensor([[-1.1055,  0.5777,  0.3726,  0.5706, -1.0746,  0.4819, -1.1723, -1.0960,\n",
      "         -1.2195, -1.0618, -1.2063, -0.8305, -0.8774, -1.1272, -0.7068,  0.4014,\n",
      "         -0.8287,  0.4544, -0.7271,  0.4347],\n",
      "        [-1.1088,  0.3519,  0.7057,  0.4847, -1.1449,  0.4309, -1.0210, -1.1855,\n",
      "         -0.9288, -1.0234, -0.7553, -0.8252, -0.9050, -1.0246, -0.7689,  0.4654,\n",
      "         -1.0122,  0.5710, -1.0270,  0.5376],\n",
      "        [-1.1181,  0.5160,  0.5610,  0.4417, -0.9688,  0.2688, -1.0690, -0.8464,\n",
      "         -0.8860, -1.1036, -0.7703, -0.9227, -1.0192, -1.1577, -0.9577,  0.4087,\n",
      "         -0.8677,  0.5224, -0.9226,  0.5956],\n",
      "        [-0.8707,  0.6134,  0.5324,  0.4229, -1.0182,  0.4793, -0.9140, -0.7937,\n",
      "         -0.9260, -1.0894, -0.8736, -0.7749, -1.0740, -1.1421, -0.7495,  0.5965,\n",
      "         -0.9696,  0.2368, -0.8638,  0.4765],\n",
      "        [-0.8155,  0.6659,  0.5280,  0.5113, -1.0143,  0.2215, -0.9457, -0.7556,\n",
      "         -0.9209, -0.9335, -1.1315, -0.7896, -1.1242, -1.1690, -1.0671,  0.3458,\n",
      "         -0.9175,  0.5179, -0.7892,  0.4860],\n",
      "        [-0.8248,  0.7025,  0.6518,  0.3509, -1.0019,  0.2910, -1.1199, -1.2277,\n",
      "         -1.2099, -1.2766, -1.1107, -1.1561, -0.9432, -1.0606, -1.0320,  0.8275,\n",
      "         -1.0305,  0.4549, -0.8739,  0.5430],\n",
      "        [ 0.8063, -0.4719, -0.4466, -0.3243,  1.0937, -0.4998,  1.0153,  1.0836,\n",
      "          1.0112,  0.9176,  0.7439,  0.9096,  0.9420,  1.1996,  0.9318, -0.5706,\n",
      "          0.8747, -0.5787,  0.9411, -0.6484],\n",
      "        [ 0.9559, -0.4713, -0.4519, -0.5494,  0.8213, -0.6450,  0.9495,  0.9204,\n",
      "          1.1271,  0.8083,  1.1487,  1.0902,  0.9611,  1.1245,  0.9277, -0.6461,\n",
      "          0.9433, -0.5194,  0.9340, -0.4165],\n",
      "        [-1.0163,  0.4247,  0.6251,  0.6277, -1.1786,  0.3531, -1.1922, -1.0755,\n",
      "         -1.0739, -0.9381, -0.9189, -0.8861, -1.2383, -0.9186, -0.9119,  0.4959,\n",
      "         -1.1831,  0.4636, -0.7939,  0.7337],\n",
      "        [ 0.7990, -0.7460, -0.5455, -0.4723,  0.9413, -0.5796,  0.9097,  1.1930,\n",
      "          1.1543,  0.9358,  1.1357,  1.1135,  0.8866,  1.2176,  1.1086, -0.4057,\n",
      "          1.1494, -0.5800,  1.0481, -0.7855]])), ('hidden_layer_2.bias', tensor([ 0.2828,  0.0194,  0.1213, -0.0521,  0.0800,  0.1689, -0.0727, -0.0254,\n",
      "         0.0674, -0.0060])), ('hidden_layer_3.weight', tensor([[ 1.0135,  1.1215,  0.7016,  0.7663,  0.9085,  0.5426, -1.3592, -1.4095,\n",
      "          0.9380, -1.6945],\n",
      "        [ 1.1140,  0.7843,  0.9605,  0.8491,  1.0460,  0.7550, -1.6322, -1.7287,\n",
      "          0.7926, -1.6105],\n",
      "        [ 1.0413,  0.9835,  0.9686,  1.0134,  0.8708,  0.6507, -1.5438, -1.4310,\n",
      "          0.6721, -1.3310],\n",
      "        [-0.9280, -0.8258, -0.5276, -0.8654, -0.7510, -1.0273,  1.6413,  1.4877,\n",
      "         -0.8989,  1.2721],\n",
      "        [ 0.5008,  0.6759,  0.7717,  1.0733,  0.9778,  0.7522, -1.6404, -1.3893,\n",
      "          0.7090, -1.4956]])), ('hidden_layer_3.bias', tensor([-0.5857, -0.3855, -0.7450,  0.5146, -0.3208])), ('hidden_layer_4.weight', tensor([[-1.4296, -1.0430, -1.6090,  2.3726, -1.4585],\n",
      "        [ 1.4328,  1.4914,  1.5562, -2.1885,  1.5645],\n",
      "        [-1.4195, -1.6187, -1.0325,  2.4205, -1.2894]])), ('hidden_layer_4.bias', tensor([ 0.6743, -1.0957,  0.5645])), ('hidden_layer_5.weight', tensor([[ 2.9208, -2.8678,  2.5272],\n",
      "        [-2.9294,  3.0185, -3.0280]])), ('hidden_layer_5.bias', tensor([-0.8060,  0.9628])), ('output_layer.weight', tensor([[ 3.3811, -3.5184],\n",
      "        [-3.6966,  3.1533]])), ('output_layer.bias', tensor([0.0772, 0.2622]))])\n"
     ]
    }
   ],
   "source": [
    "# Check the state of the model as a dictionary\n",
    "print(model.state_dict())"
   ]
  },
  {
   "attachments": {},
   "cell_type": "markdown",
   "id": "5d2612ef",
   "metadata": {},
   "source": [
    "#### **End. Thank you!**"
   ]
  }
 ],
 "metadata": {
  "kernelspec": {
   "display_name": "env",
   "language": "python",
   "name": "python3"
  },
  "language_info": {
   "codemirror_mode": {
    "name": "ipython",
    "version": 3
   },
   "file_extension": ".py",
   "mimetype": "text/x-python",
   "name": "python",
   "nbconvert_exporter": "python",
   "pygments_lexer": "ipython3",
   "version": "3.9.13"
  },
  "vscode": {
   "interpreter": {
    "hash": "1c40ce44dd20e6e0fb2a22fa8ec36f37aeef1e21e6d516fd6f161fb8a5daf29c"
   }
  }
 },
 "nbformat": 4,
 "nbformat_minor": 5
}
