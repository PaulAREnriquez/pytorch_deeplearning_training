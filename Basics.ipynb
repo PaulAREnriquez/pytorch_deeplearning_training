{
 "cells": [
  {
   "cell_type": "code",
   "execution_count": 1,
   "id": "553c6392",
   "metadata": {},
   "outputs": [],
   "source": [
    "import torch\n",
    "import torch.nn as nn"
   ]
  },
  {
   "cell_type": "code",
   "execution_count": 2,
   "id": "24ba4ef2",
   "metadata": {},
   "outputs": [
    {
     "name": "stdout",
     "output_type": "stream",
     "text": [
      "tensor([[5., 3., 1., 2.],\n",
      "        [6., 3., 6., 1.]])\n"
     ]
    }
   ],
   "source": [
    "# We want to create a neuron / tensors\n",
    "x = [[5, 3, 1, 2], [6, 3, 6, 1]]\n",
    "x = torch.Tensor(x)\n",
    "\n",
    "print(x)"
   ]
  },
  {
   "cell_type": "code",
   "execution_count": 3,
   "id": "65aa5725",
   "metadata": {},
   "outputs": [],
   "source": [
    "# Class representing your neural network\n",
    "# 4 (input) --> 3 (hidden layer) --> 2 (hidden layer) --> 1 (output layer)\n",
    "class SinglePerceptron(nn.Module):\n",
    "    def __init__(self):\n",
    "        super().__init__()\n",
    "        self.hidden_layer_1 = nn.Linear(4, 3)\n",
    "        self.hidden_layer_2 = nn.Linear(3, 2)\n",
    "        self.output_layer = nn.Linear(2, 1)\n",
    "        self.activation = nn.Sigmoid()\n",
    "        \n",
    "        #self.multiple_hidden_2x2 = nn.Sequential()\n",
    "        \n",
    "        #for i in range(1000):\n",
    "        #    self.multiple_hidden_2x2.append(nn.Linear(2, 2))\n",
    "        #    self.multiple_hidden_2x2.append(nn.Sigmoid())\n",
    "    \n",
    "    def forward(self, x):\n",
    "        x = self.hidden_layer_1(x)\n",
    "        x = self.activation(x)\n",
    "        \n",
    "        x = self.hidden_layer_2(x)\n",
    "        x = self.activation(x)\n",
    "        \n",
    "        #x = self.multiple_hidden_2x2(x)\n",
    "        \n",
    "        y = self.output_layer(x)\n",
    "        y = self.activation(y)\n",
    "        \n",
    "        return y"
   ]
  },
  {
   "cell_type": "code",
   "execution_count": 4,
   "id": "255f10ff",
   "metadata": {},
   "outputs": [
    {
     "name": "stdout",
     "output_type": "stream",
     "text": [
      "tensor([[0.5765],\n",
      "        [0.5739]], grad_fn=<SigmoidBackward0>)\n"
     ]
    }
   ],
   "source": [
    "model = SinglePerceptron()\n",
    "\n",
    "predictions = model.forward(x)\n",
    "\n",
    "print(predictions)"
   ]
  },
  {
   "cell_type": "code",
   "execution_count": 5,
   "id": "07681fa5",
   "metadata": {},
   "outputs": [
    {
     "name": "stdout",
     "output_type": "stream",
     "text": [
      "SinglePerceptron(\n",
      "  (hidden_layer_1): Linear(in_features=4, out_features=3, bias=True)\n",
      "  (hidden_layer_2): Linear(in_features=3, out_features=2, bias=True)\n",
      "  (output_layer): Linear(in_features=2, out_features=1, bias=True)\n",
      "  (activation): Sigmoid()\n",
      ")\n"
     ]
    }
   ],
   "source": [
    "print(model)"
   ]
  },
  {
   "cell_type": "code",
   "execution_count": 6,
   "id": "4c853ea0",
   "metadata": {},
   "outputs": [],
   "source": [
    "# Loss function\n",
    "loss_fn = nn.MSELoss()"
   ]
  },
  {
   "cell_type": "code",
   "execution_count": 8,
   "id": "d907860b",
   "metadata": {},
   "outputs": [
    {
     "name": "stdout",
     "output_type": "stream",
     "text": [
      "0.2543580234050751\n"
     ]
    }
   ],
   "source": [
    "answer_key = torch.Tensor([[1], [0]])\n",
    "\n",
    "for \n",
    "loss = loss_fn(predictions, answer_key)\n",
    "\n",
    "print(loss.item())"
   ]
  },
  {
   "cell_type": "code",
   "execution_count": null,
   "id": "9c4c9a5b",
   "metadata": {},
   "outputs": [],
   "source": []
  }
 ],
 "metadata": {
  "kernelspec": {
   "display_name": "Python 3 (ipykernel)",
   "language": "python",
   "name": "python3"
  },
  "language_info": {
   "codemirror_mode": {
    "name": "ipython",
    "version": 3
   },
   "file_extension": ".py",
   "mimetype": "text/x-python",
   "name": "python",
   "nbconvert_exporter": "python",
   "pygments_lexer": "ipython3",
   "version": "3.10.7"
  }
 },
 "nbformat": 4,
 "nbformat_minor": 5
}
