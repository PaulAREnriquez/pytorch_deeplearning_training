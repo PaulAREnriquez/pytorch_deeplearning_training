{
 "cells": [
  {
   "cell_type": "code",
   "execution_count": 1,
   "id": "743d7109",
   "metadata": {},
   "outputs": [],
   "source": [
    "import torch\n",
    "import torch.nn as nn"
   ]
  },
  {
   "cell_type": "code",
   "execution_count": 2,
   "id": "321ac01b",
   "metadata": {},
   "outputs": [
    {
     "name": "stdout",
     "output_type": "stream",
     "text": [
      "tensor([[5., 3., 1., 2.],\n",
      "        [6., 3., 6., 1.]])\n"
     ]
    }
   ],
   "source": [
    "# We want to create a neuron / tensors\n",
    "x = [[5, 3, 1, 2], [6, 3, 6, 1]]\n",
    "x = torch.Tensor(x)\n",
    "\n",
    "print(x)"
   ]
  },
  {
   "cell_type": "code",
   "execution_count": 3,
   "id": "8669f399",
   "metadata": {},
   "outputs": [],
   "source": [
    "# Class representing your neural network\n",
    "# 4 (input) --> 3 (hidden layer) --> 2 (hidden layer) --> 1 (output layer)\n",
    "class SinglePerceptron(nn.Module):\n",
    "    def __init__(self):\n",
    "        super().__init__()\n",
    "        self.hidden_layer_1 = nn.Linear(4, 3)\n",
    "        self.hidden_layer_2 = nn.Linear(3, 2)\n",
    "        self.output_layer = nn.Linear(2, 1)\n",
    "        self.activation = nn.Sigmoid()\n",
    "        \n",
    "        #self.multiple_hidden_2x2 = nn.Sequential()\n",
    "        \n",
    "        #for i in range(1000):\n",
    "        #    self.multiple_hidden_2x2.append(nn.Linear(2, 2))\n",
    "        #    self.multiple_hidden_2x2.append(nn.Sigmoid())\n",
    "    \n",
    "    def forward(self, x):\n",
    "        x = self.hidden_layer_1(x)\n",
    "        x = self.activation(x)\n",
    "        \n",
    "        x = self.hidden_layer_2(x)\n",
    "        x = self.activation(x)\n",
    "        \n",
    "        #x = self.multiple_hidden_2x2(x)\n",
    "        \n",
    "        y = self.output_layer(x)\n",
    "        y = self.activation(y)\n",
    "        \n",
    "        return y"
   ]
  },
  {
   "cell_type": "code",
   "execution_count": 4,
   "id": "cb4111f0",
   "metadata": {},
   "outputs": [
    {
     "name": "stdout",
     "output_type": "stream",
     "text": [
      "tensor([[0.4697],\n",
      "        [0.4687]], grad_fn=<SigmoidBackward0>)\n"
     ]
    }
   ],
   "source": [
    "model = SinglePerceptron()\n",
    "\n",
    "predictions = model.forward(x)\n",
    "\n",
    "print(predictions)"
   ]
  },
  {
   "cell_type": "code",
   "execution_count": 5,
   "id": "03389888",
   "metadata": {},
   "outputs": [
    {
     "name": "stdout",
     "output_type": "stream",
     "text": [
      "SinglePerceptron(\n",
      "  (hidden_layer_1): Linear(in_features=4, out_features=3, bias=True)\n",
      "  (hidden_layer_2): Linear(in_features=3, out_features=2, bias=True)\n",
      "  (output_layer): Linear(in_features=2, out_features=1, bias=True)\n",
      "  (activation): Sigmoid()\n",
      ")\n"
     ]
    }
   ],
   "source": [
    "print(model)"
   ]
  },
  {
   "cell_type": "code",
   "execution_count": 6,
   "id": "2ba71510",
   "metadata": {},
   "outputs": [],
   "source": [
    "# Loss function\n",
    "loss_fn = nn.MSELoss()"
   ]
  },
  {
   "cell_type": "code",
   "execution_count": 7,
   "id": "025ebe87",
   "metadata": {},
   "outputs": [
    {
     "name": "stdout",
     "output_type": "stream",
     "text": [
      "0.28121691942214966\n",
      "0.2196352630853653\n"
     ]
    }
   ],
   "source": [
    "answer_key = torch.Tensor([[1], [0]])\n",
    "\n",
    "for i in range(len(predictions)):\n",
    "    p = predictions[i]\n",
    "    a = answer_key[i]\n",
    "\n",
    "    loss = loss_fn(p, a)\n",
    "\n",
    "    print(loss.item())"
   ]
  },
  {
   "cell_type": "code",
   "execution_count": 8,
   "id": "81ee5470",
   "metadata": {},
   "outputs": [
    {
     "name": "stdout",
     "output_type": "stream",
     "text": [
      "hidden_layer_1.weight\n",
      "tensor([[-0.4724, -0.4565,  0.0256, -0.2653],\n",
      "        [ 0.3669, -0.4639, -0.3995, -0.0854],\n",
      "        [ 0.2321, -0.1159, -0.2555, -0.1545]])\n",
      "hidden_layer_1.bias\n",
      "tensor([ 0.0364,  0.3883, -0.0534])\n",
      "hidden_layer_2.weight\n",
      "tensor([[ 0.0265, -0.1209, -0.3497],\n",
      "        [ 0.1799,  0.1489,  0.2416]])\n",
      "hidden_layer_2.bias\n",
      "tensor([ 0.4417, -0.3849])\n",
      "output_layer.weight\n",
      "tensor([[-0.4121, -0.3001]])\n",
      "output_layer.bias\n",
      "tensor([0.2410])\n"
     ]
    }
   ],
   "source": [
    "# Examine the parameters\n",
    "num_parameters = 0\n",
    "for name, param in model.named_parameters():\n",
    "    print(name)\n",
    "    print(param.data)\n",
    "    \n",
    "    num_parameters += param.numel()"
   ]
  },
  {
   "cell_type": "code",
   "execution_count": 9,
   "id": "edfe4c3f",
   "metadata": {},
   "outputs": [
    {
     "name": "stdout",
     "output_type": "stream",
     "text": [
      "Num Parameters: 26\n"
     ]
    }
   ],
   "source": [
    "print(\"Num Parameters: {}\".format(num_parameters))"
   ]
  },
  {
   "cell_type": "code",
   "execution_count": null,
   "id": "1096a944",
   "metadata": {},
   "outputs": [],
   "source": []
  }
 ],
 "metadata": {
  "kernelspec": {
   "display_name": "Python 3 (ipykernel)",
   "language": "python",
   "name": "python3"
  },
  "language_info": {
   "codemirror_mode": {
    "name": "ipython",
    "version": 3
   },
   "file_extension": ".py",
   "mimetype": "text/x-python",
   "name": "python",
   "nbconvert_exporter": "python",
   "pygments_lexer": "ipython3",
   "version": "3.10.7"
  }
 },
 "nbformat": 4,
 "nbformat_minor": 5
}
