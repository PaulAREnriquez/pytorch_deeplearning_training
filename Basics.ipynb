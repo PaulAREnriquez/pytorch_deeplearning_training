{
 "cells": [
  {
   "cell_type": "code",
   "execution_count": 1,
   "id": "b22d2045",
   "metadata": {},
   "outputs": [],
   "source": [
    "import torch\n",
    "import torch.nn as nn"
   ]
  },
  {
   "cell_type": "code",
   "execution_count": 2,
   "id": "ce6880ab",
   "metadata": {},
   "outputs": [
    {
     "name": "stdout",
     "output_type": "stream",
     "text": [
      "tensor([[5., 3., 1., 2.],\n",
      "        [6., 3., 6., 1.]])\n"
     ]
    }
   ],
   "source": [
    "# We want to create a neuron / tensors\n",
    "x = [[5, 3, 1, 2], [6, 3, 6, 1]]\n",
    "x = torch.Tensor(x)\n",
    "\n",
    "print(x)"
   ]
  },
  {
   "cell_type": "code",
   "execution_count": 3,
   "id": "6367a32b",
   "metadata": {},
   "outputs": [],
   "source": [
    "# Class representing your neural network\n",
    "# 4 (input) --> 3 (hidden layer) --> 2 (hidden layer) --> 1 (output layer)\n",
    "class SinglePerceptron(nn.Module):\n",
    "    def __init__(self):\n",
    "        super().__init__()\n",
    "        self.hidden_layer_1 = nn.Linear(4, 3)\n",
    "        self.hidden_layer_2 = nn.Linear(3, 2)\n",
    "        self.output_layer = nn.Linear(2, 1)\n",
    "    \n",
    "    def forward(self, x):\n",
    "        x = self.hidden_layer_1(x)\n",
    "        x = self.hidden_layer_2(x)\n",
    "        y = self.output_layer(x)\n",
    "        return y"
   ]
  },
  {
   "cell_type": "code",
   "execution_count": 4,
   "id": "3c77ef83",
   "metadata": {},
   "outputs": [
    {
     "name": "stdout",
     "output_type": "stream",
     "text": [
      "tensor([[0.6369],\n",
      "        [0.0580]], grad_fn=<AddmmBackward0>)\n"
     ]
    }
   ],
   "source": [
    "model = SinglePerceptron()\n",
    "\n",
    "y = model.forward(x)\n",
    "\n",
    "print(y)"
   ]
  },
  {
   "cell_type": "code",
   "execution_count": null,
   "id": "c25054d7",
   "metadata": {},
   "outputs": [],
   "source": []
  }
 ],
 "metadata": {
  "kernelspec": {
   "display_name": "Python 3 (ipykernel)",
   "language": "python",
   "name": "python3"
  },
  "language_info": {
   "codemirror_mode": {
    "name": "ipython",
    "version": 3
   },
   "file_extension": ".py",
   "mimetype": "text/x-python",
   "name": "python",
   "nbconvert_exporter": "python",
   "pygments_lexer": "ipython3",
   "version": "3.10.7"
  }
 },
 "nbformat": 4,
 "nbformat_minor": 5
}
